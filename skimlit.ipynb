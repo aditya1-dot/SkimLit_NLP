{
 "cells": [
  {
   "cell_type": "markdown",
   "metadata": {},
   "source": [
    "# SkimLit 📙\n",
    "* The puropose of this notebook is to build a model that to make read medical abstract easier.\n",
    "\n",
    "* The paper we are replicating will be avialable [here](https://arxiv.org/abs/1710.06071)\n",
    "Reading the papr will see the model architecture to achieve best [results](https://arxiv.org/pdf/1710.06071.pdf)."
   ]
  },
  {
   "cell_type": "markdown",
   "metadata": {},
   "source": [
    "# Step one is to get the dataset.[LINK](https://github.com/Franck-Dernoncourt/pubmed-rct)"
   ]
  },
  {
   "cell_type": "code",
   "execution_count": 1,
   "metadata": {},
   "outputs": [
    {
     "name": "stdout",
     "output_type": "stream",
     "text": [
      "Cloning into 'pubmed-rct'...\n",
      "remote: Enumerating objects: 39, done.\u001b[K\n",
      "remote: Counting objects: 100% (14/14), done.\u001b[K\n",
      "remote: Compressing objects: 100% (9/9), done.\u001b[Ksing objects: 100% (9/9)\u001b[K\n",
      "remote: Total 39 (delta 8), reused 5 (delta 5), pack-reused 25\u001b[K\n",
      "Receiving objects: 100% (39/39), 177.08 MiB | 2.57 MiB/s, done.\n",
      "Resolving deltas: 100% (15/15), done.\n",
      "\u001b[34mPubMed_200k_RCT\u001b[m\u001b[m\n",
      "\u001b[34mPubMed_200k_RCT_numbers_replaced_with_at_sign\u001b[m\u001b[m\n",
      "\u001b[34mPubMed_20k_RCT\u001b[m\u001b[m\n",
      "\u001b[34mPubMed_20k_RCT_numbers_replaced_with_at_sign\u001b[m\u001b[m\n",
      "README.md\n"
     ]
    }
   ],
   "source": [
    "! git clone https://github.com/Franck-Dernoncourt/pubmed-rct\n",
    "!ls pubmed-rct"
   ]
  },
  {
   "cell_type": "code",
   "execution_count": 2,
   "metadata": {},
   "outputs": [
    {
     "name": "stdout",
     "output_type": "stream",
     "text": [
      "dev.txt   test.txt  train.txt\n"
     ]
    }
   ],
   "source": [
    "!ls /Users/adityasinha/Desktop/Deep_Learning/project_nlp/pubmed-rct/PubMed_20k_RCT_numbers_replaced_with_at_sign"
   ]
  },
  {
   "cell_type": "code",
   "execution_count": 2,
   "metadata": {},
   "outputs": [
    {
     "data": {
      "text/plain": [
       "['pubmed-rct/PubMed_20k_RCT_numbers_replaced_with_at_signdev.txt',\n",
       " 'pubmed-rct/PubMed_20k_RCT_numbers_replaced_with_at_signtrain.txt',\n",
       " 'pubmed-rct/PubMed_20k_RCT_numbers_replaced_with_at_signtest.txt']"
      ]
     },
     "execution_count": 2,
     "metadata": {},
     "output_type": "execute_result"
    }
   ],
   "source": [
    "#  train;test;dev(validation)\n",
    "# Start our ecp with using 20k dataset with numbers replaced by '@' sign\n",
    "data_dir=\"pubmed-rct/PubMed_20k_RCT_numbers_replaced_with_at_sign\"\n",
    "import os\n",
    "filenames=[data_dir+filename for filename in os.listdir(data_dir)]\n",
    "filenames"
   ]
  },
  {
   "cell_type": "code",
   "execution_count": 3,
   "metadata": {},
   "outputs": [
    {
     "data": {
      "text/plain": [
       "'pubmed-rct/PubMed_20k_RCT_numbers_replaced_with_at_sign'"
      ]
     },
     "execution_count": 3,
     "metadata": {},
     "output_type": "execute_result"
    }
   ],
   "source": [
    "data_dir"
   ]
  },
  {
   "cell_type": "code",
   "execution_count": 4,
   "metadata": {},
   "outputs": [],
   "source": [
    "def get_lines(filename):\n",
    "    with open(filename) as f:\n",
    "        return f.readlines()\n",
    "    "
   ]
  },
  {
   "cell_type": "code",
   "execution_count": 85,
   "metadata": {},
   "outputs": [],
   "source": [
    "del(train_lines)"
   ]
  },
  {
   "cell_type": "code",
   "execution_count": 5,
   "metadata": {},
   "outputs": [
    {
     "data": {
      "text/plain": [
       "['###24293578\\n',\n",
       " 'OBJECTIVE\\tTo investigate the efficacy of @ weeks of daily low-dose oral prednisolone in improving pain , mobility , and systemic low-grade inflammation in the short term and whether the effect would be sustained at @ weeks in older adults with moderate to severe knee osteoarthritis ( OA ) .\\n',\n",
       " 'METHODS\\tA total of @ patients with primary knee OA were randomized @:@ ; @ received @ mg/day of prednisolone and @ received placebo for @ weeks .\\n',\n",
       " 'METHODS\\tOutcome measures included pain reduction and improvement in function scores and systemic inflammation markers .\\n',\n",
       " 'METHODS\\tPain was assessed using the visual analog pain scale ( @-@ mm ) .\\n',\n",
       " 'METHODS\\tSecondary outcome measures included the Western Ontario and McMaster Universities Osteoarthritis Index scores , patient global assessment ( PGA ) of the severity of knee OA , and @-min walk distance ( @MWD ) .\\n',\n",
       " 'METHODS\\tSerum levels of interleukin @ ( IL-@ ) , IL-@ , tumor necrosis factor ( TNF ) - , and high-sensitivity C-reactive protein ( hsCRP ) were measured .\\n',\n",
       " 'RESULTS\\tThere was a clinically relevant reduction in the intervention group compared to the placebo group for knee pain , physical function , PGA , and @MWD at @ weeks .\\n',\n",
       " 'RESULTS\\tThe mean difference between treatment arms ( @ % CI ) was @ ( @-@ @ ) , p < @ ; @ ( @-@ @ ) , p < @ ; @ ( @-@ @ ) , p < @ ; and @ ( @-@ @ ) , p < @ , respectively .\\n',\n",
       " 'RESULTS\\tFurther , there was a clinically relevant reduction in the serum levels of IL-@ , IL-@ , TNF - , and hsCRP at @ weeks in the intervention group when compared to the placebo group .\\n',\n",
       " 'RESULTS\\tThese differences remained significant at @ weeks .\\n',\n",
       " 'RESULTS\\tThe Outcome Measures in Rheumatology Clinical Trials-Osteoarthritis Research Society International responder rate was @ % in the intervention group and @ % in the placebo group ( p < @ ) .\\n',\n",
       " 'CONCLUSIONS\\tLow-dose oral prednisolone had both a short-term and a longer sustained effect resulting in less knee pain , better physical function , and attenuation of systemic inflammation in older patients with knee OA ( ClinicalTrials.gov identifier NCT@ ) .\\n',\n",
       " '\\n',\n",
       " '###24854809\\n',\n",
       " 'BACKGROUND\\tEmotional eating is associated with overeating and the development of obesity .\\n',\n",
       " 'BACKGROUND\\tYet , empirical evidence for individual ( trait ) differences in emotional eating and cognitive mechanisms that contribute to eating during sad mood remain equivocal .\\n',\n",
       " 'OBJECTIVE\\tThe aim of this study was to test if attention bias for food moderates the effect of self-reported emotional eating during sad mood ( vs neutral mood ) on actual food intake .\\n',\n",
       " 'OBJECTIVE\\tIt was expected that emotional eating is predictive of elevated attention for food and higher food intake after an experimentally induced sad mood and that attentional maintenance on food predicts food intake during a sad versus a neutral mood .\\n',\n",
       " 'METHODS\\tParticipants ( N = @ ) were randomly assigned to one of the two experimental mood induction conditions ( sad/neutral ) .\\n']"
      ]
     },
     "execution_count": 5,
     "metadata": {},
     "output_type": "execute_result"
    }
   ],
   "source": [
    "# from helper_function import get_lines\n",
    "train_lines=get_lines(data_dir+\"/train.txt\")# reads line from train.txt\n",
    "train_lines[:20]"
   ]
  },
  {
   "cell_type": "code",
   "execution_count": 6,
   "metadata": {},
   "outputs": [
    {
     "data": {
      "text/plain": [
       "210040"
      ]
     },
     "execution_count": 6,
     "metadata": {},
     "output_type": "execute_result"
    }
   ],
   "source": [
    "len(train_lines)"
   ]
  },
  {
   "cell_type": "code",
   "execution_count": 7,
   "metadata": {},
   "outputs": [],
   "source": [
    "def preprocess_text_with_line_number(filename):\n",
    "    '''\n",
    "    Retunrs a list of dictionaries of abstract line data.\n",
    "    Takes in file name reads the data,extraxting things like target \n",
    "    label ,text of sentence.\n",
    "    '''\n",
    "    input_lines=get_lines(filename)# get all the lines\n",
    "    abstract_line=\"\"\n",
    "    abstract_sample=[]\n",
    "    # Loop through each line in txt file\n",
    "    for line in input_lines:\n",
    "        if line.startswith(\"###\"):\n",
    "            abstract_id=line\n",
    "            abstract_line=\"\"\n",
    "        elif line.isspace():\n",
    "            abstract_line_split=abstract_line.splitlines()\n",
    "            \n",
    "            for abstract_line_number,abstract_line in enumerate(abstract_line_split):\n",
    "                line_data={}\n",
    "                target_text_spilt=abstract_line.split(\"\\t\")\n",
    "                line_data[\"target\"]=target_text_spilt[0]\n",
    "                line_data[\"text\"]=target_text_spilt[1].lower()\n",
    "                line_data[\"line_number\"]=abstract_line_number\n",
    "                line_data[\"total_lines\"]=len(abstract_line_split)-1\n",
    "                abstract_sample.append(line_data)\n",
    "        else:\n",
    "            abstract_line+=line\n",
    "    return abstract_sample\n",
    "                "
   ]
  },
  {
   "cell_type": "code",
   "execution_count": 8,
   "metadata": {},
   "outputs": [
    {
     "name": "stdout",
     "output_type": "stream",
     "text": [
      "CPU times: user 225 ms, sys: 26.1 ms, total: 251 ms\n",
      "Wall time: 253 ms\n"
     ]
    },
    {
     "data": {
      "text/plain": [
       "(180040, 30135, 30212)"
      ]
     },
     "execution_count": 8,
     "metadata": {},
     "output_type": "execute_result"
    }
   ],
   "source": [
    "%%time\n",
    "train_sample=preprocess_text_with_line_number(data_dir+\"/train.txt\")\n",
    "val_samples=preprocess_text_with_line_number(data_dir+\"/dev.txt\")\n",
    "test_sample=preprocess_text_with_line_number(data_dir+\"/test.txt\")\n",
    "len(train_sample),len(test_sample),len(val_samples)"
   ]
  },
  {
   "cell_type": "code",
   "execution_count": 9,
   "metadata": {},
   "outputs": [
    {
     "data": {
      "text/plain": [
       "[{'target': 'OBJECTIVE',\n",
       "  'text': 'to investigate the efficacy of @ weeks of daily low-dose oral prednisolone in improving pain , mobility , and systemic low-grade inflammation in the short term and whether the effect would be sustained at @ weeks in older adults with moderate to severe knee osteoarthritis ( oa ) .',\n",
       "  'line_number': 0,\n",
       "  'total_lines': 11},\n",
       " {'target': 'METHODS',\n",
       "  'text': 'a total of @ patients with primary knee oa were randomized @:@ ; @ received @ mg/day of prednisolone and @ received placebo for @ weeks .',\n",
       "  'line_number': 1,\n",
       "  'total_lines': 11},\n",
       " {'target': 'METHODS',\n",
       "  'text': 'outcome measures included pain reduction and improvement in function scores and systemic inflammation markers .',\n",
       "  'line_number': 2,\n",
       "  'total_lines': 11},\n",
       " {'target': 'METHODS',\n",
       "  'text': 'pain was assessed using the visual analog pain scale ( @-@ mm ) .',\n",
       "  'line_number': 3,\n",
       "  'total_lines': 11},\n",
       " {'target': 'METHODS',\n",
       "  'text': 'secondary outcome measures included the western ontario and mcmaster universities osteoarthritis index scores , patient global assessment ( pga ) of the severity of knee oa , and @-min walk distance ( @mwd ) .',\n",
       "  'line_number': 4,\n",
       "  'total_lines': 11},\n",
       " {'target': 'METHODS',\n",
       "  'text': 'serum levels of interleukin @ ( il-@ ) , il-@ , tumor necrosis factor ( tnf ) - , and high-sensitivity c-reactive protein ( hscrp ) were measured .',\n",
       "  'line_number': 5,\n",
       "  'total_lines': 11},\n",
       " {'target': 'RESULTS',\n",
       "  'text': 'there was a clinically relevant reduction in the intervention group compared to the placebo group for knee pain , physical function , pga , and @mwd at @ weeks .',\n",
       "  'line_number': 6,\n",
       "  'total_lines': 11},\n",
       " {'target': 'RESULTS',\n",
       "  'text': 'the mean difference between treatment arms ( @ % ci ) was @ ( @-@ @ ) , p < @ ; @ ( @-@ @ ) , p < @ ; @ ( @-@ @ ) , p < @ ; and @ ( @-@ @ ) , p < @ , respectively .',\n",
       "  'line_number': 7,\n",
       "  'total_lines': 11},\n",
       " {'target': 'RESULTS',\n",
       "  'text': 'further , there was a clinically relevant reduction in the serum levels of il-@ , il-@ , tnf - , and hscrp at @ weeks in the intervention group when compared to the placebo group .',\n",
       "  'line_number': 8,\n",
       "  'total_lines': 11},\n",
       " {'target': 'RESULTS',\n",
       "  'text': 'these differences remained significant at @ weeks .',\n",
       "  'line_number': 9,\n",
       "  'total_lines': 11}]"
      ]
     },
     "execution_count": 9,
     "metadata": {},
     "output_type": "execute_result"
    }
   ],
   "source": [
    "train_sample[:10]"
   ]
  },
  {
   "cell_type": "code",
   "execution_count": 10,
   "metadata": {},
   "outputs": [
    {
     "data": {
      "text/html": [
       "<div>\n",
       "<style scoped>\n",
       "    .dataframe tbody tr th:only-of-type {\n",
       "        vertical-align: middle;\n",
       "    }\n",
       "\n",
       "    .dataframe tbody tr th {\n",
       "        vertical-align: top;\n",
       "    }\n",
       "\n",
       "    .dataframe thead th {\n",
       "        text-align: right;\n",
       "    }\n",
       "</style>\n",
       "<table border=\"1\" class=\"dataframe\">\n",
       "  <thead>\n",
       "    <tr style=\"text-align: right;\">\n",
       "      <th></th>\n",
       "      <th>target</th>\n",
       "      <th>text</th>\n",
       "      <th>line_number</th>\n",
       "      <th>total_lines</th>\n",
       "    </tr>\n",
       "  </thead>\n",
       "  <tbody>\n",
       "    <tr>\n",
       "      <th>0</th>\n",
       "      <td>OBJECTIVE</td>\n",
       "      <td>to investigate the efficacy of @ weeks of dail...</td>\n",
       "      <td>0</td>\n",
       "      <td>11</td>\n",
       "    </tr>\n",
       "    <tr>\n",
       "      <th>1</th>\n",
       "      <td>METHODS</td>\n",
       "      <td>a total of @ patients with primary knee oa wer...</td>\n",
       "      <td>1</td>\n",
       "      <td>11</td>\n",
       "    </tr>\n",
       "    <tr>\n",
       "      <th>2</th>\n",
       "      <td>METHODS</td>\n",
       "      <td>outcome measures included pain reduction and i...</td>\n",
       "      <td>2</td>\n",
       "      <td>11</td>\n",
       "    </tr>\n",
       "    <tr>\n",
       "      <th>3</th>\n",
       "      <td>METHODS</td>\n",
       "      <td>pain was assessed using the visual analog pain...</td>\n",
       "      <td>3</td>\n",
       "      <td>11</td>\n",
       "    </tr>\n",
       "    <tr>\n",
       "      <th>4</th>\n",
       "      <td>METHODS</td>\n",
       "      <td>secondary outcome measures included the wester...</td>\n",
       "      <td>4</td>\n",
       "      <td>11</td>\n",
       "    </tr>\n",
       "    <tr>\n",
       "      <th>5</th>\n",
       "      <td>METHODS</td>\n",
       "      <td>serum levels of interleukin @ ( il-@ ) , il-@ ...</td>\n",
       "      <td>5</td>\n",
       "      <td>11</td>\n",
       "    </tr>\n",
       "    <tr>\n",
       "      <th>6</th>\n",
       "      <td>RESULTS</td>\n",
       "      <td>there was a clinically relevant reduction in t...</td>\n",
       "      <td>6</td>\n",
       "      <td>11</td>\n",
       "    </tr>\n",
       "    <tr>\n",
       "      <th>7</th>\n",
       "      <td>RESULTS</td>\n",
       "      <td>the mean difference between treatment arms ( @...</td>\n",
       "      <td>7</td>\n",
       "      <td>11</td>\n",
       "    </tr>\n",
       "    <tr>\n",
       "      <th>8</th>\n",
       "      <td>RESULTS</td>\n",
       "      <td>further , there was a clinically relevant redu...</td>\n",
       "      <td>8</td>\n",
       "      <td>11</td>\n",
       "    </tr>\n",
       "    <tr>\n",
       "      <th>9</th>\n",
       "      <td>RESULTS</td>\n",
       "      <td>these differences remained significant at @ we...</td>\n",
       "      <td>9</td>\n",
       "      <td>11</td>\n",
       "    </tr>\n",
       "  </tbody>\n",
       "</table>\n",
       "</div>"
      ],
      "text/plain": [
       "      target                                               text  line_number  \\\n",
       "0  OBJECTIVE  to investigate the efficacy of @ weeks of dail...            0   \n",
       "1    METHODS  a total of @ patients with primary knee oa wer...            1   \n",
       "2    METHODS  outcome measures included pain reduction and i...            2   \n",
       "3    METHODS  pain was assessed using the visual analog pain...            3   \n",
       "4    METHODS  secondary outcome measures included the wester...            4   \n",
       "5    METHODS  serum levels of interleukin @ ( il-@ ) , il-@ ...            5   \n",
       "6    RESULTS  there was a clinically relevant reduction in t...            6   \n",
       "7    RESULTS  the mean difference between treatment arms ( @...            7   \n",
       "8    RESULTS  further , there was a clinically relevant redu...            8   \n",
       "9    RESULTS  these differences remained significant at @ we...            9   \n",
       "\n",
       "   total_lines  \n",
       "0           11  \n",
       "1           11  \n",
       "2           11  \n",
       "3           11  \n",
       "4           11  \n",
       "5           11  \n",
       "6           11  \n",
       "7           11  \n",
       "8           11  \n",
       "9           11  "
      ]
     },
     "execution_count": 10,
     "metadata": {},
     "output_type": "execute_result"
    }
   ],
   "source": [
    "import pandas as pd\n",
    "train_df=pd.DataFrame(train_sample)\n",
    "val_df=pd.DataFrame(val_samples)\n",
    "test_df=pd.DataFrame(test_sample)\n",
    "train_df.head(10)"
   ]
  },
  {
   "cell_type": "code",
   "execution_count": 11,
   "metadata": {},
   "outputs": [
    {
     "data": {
      "text/plain": [
       "target\n",
       "METHODS        59353\n",
       "RESULTS        57953\n",
       "CONCLUSIONS    27168\n",
       "BACKGROUND     21727\n",
       "OBJECTIVE      13839\n",
       "Name: count, dtype: int64"
      ]
     },
     "execution_count": 11,
     "metadata": {},
     "output_type": "execute_result"
    }
   ],
   "source": [
    "# distribution of labels\n",
    "train_df.value_counts(\"target\")"
   ]
  },
  {
   "cell_type": "code",
   "execution_count": 12,
   "metadata": {},
   "outputs": [
    {
     "data": {
      "image/png": "[encoded data removed]",
      "text/plain": [
       "<Figure size 640x480 with 1 Axes>"
      ]
     },
     "metadata": {},
     "output_type": "display_data"
    }
   ],
   "source": [
    "# let's check the length of different lines\n",
    "import matplotlib.pyplot as plt\n",
    "train_df.total_lines.plot.hist();"
   ]
  },
  {
   "cell_type": "code",
   "execution_count": 13,
   "metadata": {},
   "outputs": [
    {
     "data": {
      "text/plain": [
       "(180040, 30212, 30135)"
      ]
     },
     "execution_count": 13,
     "metadata": {},
     "output_type": "execute_result"
    }
   ],
   "source": [
    "# Get abstract text lines into lists\n",
    "train_sentence=train_df[\"text\"].to_list()\n",
    "val_sentence=val_df[\"text\"].to_list()\n",
    "test_sentence=test_df[\"text\"].to_list()\n",
    "len(train_sentence),len(val_sentence),len(test_sentence)"
   ]
  },
  {
   "cell_type": "code",
   "execution_count": 14,
   "metadata": {},
   "outputs": [
    {
     "data": {
      "text/plain": [
       "['to investigate the efficacy of @ weeks of daily low-dose oral prednisolone in improving pain , mobility , and systemic low-grade inflammation in the short term and whether the effect would be sustained at @ weeks in older adults with moderate to severe knee osteoarthritis ( oa ) .',\n",
       " 'a total of @ patients with primary knee oa were randomized @:@ ; @ received @ mg/day of prednisolone and @ received placebo for @ weeks .',\n",
       " 'outcome measures included pain reduction and improvement in function scores and systemic inflammation markers .',\n",
       " 'pain was assessed using the visual analog pain scale ( @-@ mm ) .',\n",
       " 'secondary outcome measures included the western ontario and mcmaster universities osteoarthritis index scores , patient global assessment ( pga ) of the severity of knee oa , and @-min walk distance ( @mwd ) .',\n",
       " 'serum levels of interleukin @ ( il-@ ) , il-@ , tumor necrosis factor ( tnf ) - , and high-sensitivity c-reactive protein ( hscrp ) were measured .',\n",
       " 'there was a clinically relevant reduction in the intervention group compared to the placebo group for knee pain , physical function , pga , and @mwd at @ weeks .',\n",
       " 'the mean difference between treatment arms ( @ % ci ) was @ ( @-@ @ ) , p < @ ; @ ( @-@ @ ) , p < @ ; @ ( @-@ @ ) , p < @ ; and @ ( @-@ @ ) , p < @ , respectively .',\n",
       " 'further , there was a clinically relevant reduction in the serum levels of il-@ , il-@ , tnf - , and hscrp at @ weeks in the intervention group when compared to the placebo group .',\n",
       " 'these differences remained significant at @ weeks .']"
      ]
     },
     "execution_count": 14,
     "metadata": {},
     "output_type": "execute_result"
    }
   ],
   "source": [
    "# view the first 10 lines of training sentences\n",
    "train_sentence[:10]"
   ]
  },
  {
   "cell_type": "code",
   "execution_count": 15,
   "metadata": {},
   "outputs": [
    {
     "name": "stdout",
     "output_type": "stream",
     "text": [
      "1.3.2\n"
     ]
    }
   ],
   "source": [
    "import sklearn\n",
    "print(sklearn.__version__)"
   ]
  },
  {
   "cell_type": "code",
   "execution_count": 16,
   "metadata": {},
   "outputs": [
    {
     "name": "stderr",
     "output_type": "stream",
     "text": [
      "/Library/Frameworks/Python.framework/Versions/3.11/lib/python3.11/site-packages/sklearn/preprocessing/_encoders.py:975: FutureWarning: `sparse` was renamed to `sparse_output` in version 1.2 and will be removed in 1.4. `sparse_output` is ignored unless you leave `sparse` to its default value.\n",
      "  warnings.warn(\n"
     ]
    }
   ],
   "source": [
    "# getting numerical label\n",
    "from sklearn.preprocessing import OneHotEncoder\n",
    "one_hot_encoder=OneHotEncoder(sparse=False)\n",
    "train_label_one_hot=one_hot_encoder.fit_transform(train_df[\"target\"].to_numpy().reshape(-1,1))\n",
    "val_label_one_hot=one_hot_encoder.transform(val_df[\"target\"].to_numpy().reshape(-1,1))\n",
    "test_label_one_hot=one_hot_encoder.transform(test_df[\"target\"].to_numpy().reshape(-1,1))\n",
    "train_label_one_hot;"
   ]
  },
  {
   "cell_type": "code",
   "execution_count": 17,
   "metadata": {},
   "outputs": [
    {
     "data": {
      "text/plain": [
       "<tf.Tensor: shape=(180040, 5), dtype=float64, numpy=\n",
       "array([[0., 0., 0., 1., 0.],\n",
       "       [0., 0., 1., 0., 0.],\n",
       "       [0., 0., 1., 0., 0.],\n",
       "       ...,\n",
       "       [0., 0., 0., 0., 1.],\n",
       "       [0., 1., 0., 0., 0.],\n",
       "       [0., 1., 0., 0., 0.]])>"
      ]
     },
     "execution_count": 17,
     "metadata": {},
     "output_type": "execute_result"
    }
   ],
   "source": [
    "import tensorflow as tf\n",
    "tf.constant(train_label_one_hot)"
   ]
  },
  {
   "cell_type": "code",
   "execution_count": 31,
   "metadata": {},
   "outputs": [
    {
     "data": {
      "text/plain": [
       "array([0, 4, 4, ..., 4, 4, 1])"
      ]
     },
     "execution_count": 31,
     "metadata": {},
     "output_type": "execute_result"
    }
   ],
   "source": [
    "# Extract labels\n",
    "from sklearn.preprocessing import LabelEncoder\n",
    "Label_encoder=LabelEncoder()\n",
    "train_label_encoded=Label_encoder.fit_transform(train_df[\"target\"].to_numpy())\n",
    "test_label_encoded=Label_encoder.fit_transform(test_df[\"target\"].to_numpy())\n",
    "val_label_encoded=Label_encoder.fit_transform(val_df[\"target\"].to_numpy())\n",
    "# check how encoded labels look like\n",
    "# train_label_encoded\n",
    "test_label_encoded"
   ]
  },
  {
   "cell_type": "code",
   "execution_count": 32,
   "metadata": {},
   "outputs": [
    {
     "data": {
      "text/plain": [
       "(5,\n",
       " array(['BACKGROUND', 'CONCLUSIONS', 'METHODS', 'OBJECTIVE', 'RESULTS'],\n",
       "       dtype=object))"
      ]
     },
     "execution_count": 32,
     "metadata": {},
     "output_type": "execute_result"
    }
   ],
   "source": [
    "num_classes=len(Label_encoder.classes_)\n",
    "names_class=Label_encoder.classes_\n",
    "num_classes,names_class"
   ]
  },
  {
   "cell_type": "markdown",
   "metadata": {},
   "source": [
    "# Starting a series of modelling experiments..\n",
    "(TF-IDF Multinomial Naive Bayes Classifier)"
   ]
  },
  {
   "cell_type": "markdown",
   "metadata": {},
   "source": [
    "# model_0 : Getting a baseline"
   ]
  },
  {
   "cell_type": "code",
   "execution_count": 33,
   "metadata": {},
   "outputs": [
    {
     "data": {
      "text/html": [
       "<style>#sk-container-id-5 {color: black;}#sk-container-id-5 pre{padding: 0;}#sk-container-id-5 div.sk-toggleable {background-color: white;}#sk-container-id-5 label.sk-toggleable__label {cursor: pointer;display: block;width: 100%;margin-bottom: 0;padding: 0.3em;box-sizing: border-box;text-align: center;}#sk-container-id-5 label.sk-toggleable__label-arrow:before {content: \"▸\";float: left;margin-right: 0.25em;color: #696969;}#sk-container-id-5 label.sk-toggleable__label-arrow:hover:before {color: black;}#sk-container-id-5 div.sk-estimator:hover label.sk-toggleable__label-arrow:before {color: black;}#sk-container-id-5 div.sk-toggleable__content {max-height: 0;max-width: 0;overflow: hidden;text-align: left;background-color: #f0f8ff;}#sk-container-id-5 div.sk-toggleable__content pre {margin: 0.2em;color: black;border-radius: 0.25em;background-color: #f0f8ff;}#sk-container-id-5 input.sk-toggleable__control:checked~div.sk-toggleable__content {max-height: 200px;max-width: 100%;overflow: auto;}#sk-container-id-5 input.sk-toggleable__control:checked~label.sk-toggleable__label-arrow:before {content: \"▾\";}#sk-container-id-5 div.sk-estimator input.sk-toggleable__control:checked~label.sk-toggleable__label {background-color: #d4ebff;}#sk-container-id-5 div.sk-label input.sk-toggleable__control:checked~label.sk-toggleable__label {background-color: #d4ebff;}#sk-container-id-5 input.sk-hidden--visually {border: 0;clip: rect(1px 1px 1px 1px);clip: rect(1px, 1px, 1px, 1px);height: 1px;margin: -1px;overflow: hidden;padding: 0;position: absolute;width: 1px;}#sk-container-id-5 div.sk-estimator {font-family: monospace;background-color: #f0f8ff;border: 1px dotted black;border-radius: 0.25em;box-sizing: border-box;margin-bottom: 0.5em;}#sk-container-id-5 div.sk-estimator:hover {background-color: #d4ebff;}#sk-container-id-5 div.sk-parallel-item::after {content: \"\";width: 100%;border-bottom: 1px solid gray;flex-grow: 1;}#sk-container-id-5 div.sk-label:hover label.sk-toggleable__label {background-color: #d4ebff;}#sk-container-id-5 div.sk-serial::before {content: \"\";position: absolute;border-left: 1px solid gray;box-sizing: border-box;top: 0;bottom: 0;left: 50%;z-index: 0;}#sk-container-id-5 div.sk-serial {display: flex;flex-direction: column;align-items: center;background-color: white;padding-right: 0.2em;padding-left: 0.2em;position: relative;}#sk-container-id-5 div.sk-item {position: relative;z-index: 1;}#sk-container-id-5 div.sk-parallel {display: flex;align-items: stretch;justify-content: center;background-color: white;position: relative;}#sk-container-id-5 div.sk-item::before, #sk-container-id-5 div.sk-parallel-item::before {content: \"\";position: absolute;border-left: 1px solid gray;box-sizing: border-box;top: 0;bottom: 0;left: 50%;z-index: -1;}#sk-container-id-5 div.sk-parallel-item {display: flex;flex-direction: column;z-index: 1;position: relative;background-color: white;}#sk-container-id-5 div.sk-parallel-item:first-child::after {align-self: flex-end;width: 50%;}#sk-container-id-5 div.sk-parallel-item:last-child::after {align-self: flex-start;width: 50%;}#sk-container-id-5 div.sk-parallel-item:only-child::after {width: 0;}#sk-container-id-5 div.sk-dashed-wrapped {border: 1px dashed gray;margin: 0 0.4em 0.5em 0.4em;box-sizing: border-box;padding-bottom: 0.4em;background-color: white;}#sk-container-id-5 div.sk-label label {font-family: monospace;font-weight: bold;display: inline-block;line-height: 1.2em;}#sk-container-id-5 div.sk-label-container {text-align: center;}#sk-container-id-5 div.sk-container {/* jupyter's `normalize.less` sets `[hidden] { display: none; }` but bootstrap.min.css set `[hidden] { display: none !important; }` so we also need the `!important` here to be able to override the default hidden behavior on the sphinx rendered scikit-learn.org. See: https://github.com/scikit-learn/scikit-learn/issues/21755 */display: inline-block !important;position: relative;}#sk-container-id-5 div.sk-text-repr-fallback {display: none;}</style><div id=\"sk-container-id-5\" class=\"sk-top-container\"><div class=\"sk-text-repr-fallback\"><pre>Pipeline(steps=[(&#x27;tf-idf&#x27;, TfidfVectorizer()), (&#x27;clf&#x27;, MultinomialNB())])</pre><b>In a Jupyter environment, please rerun this cell to show the HTML representation or trust the notebook. <br />On GitHub, the HTML representation is unable to render, please try loading this page with nbviewer.org.</b></div><div class=\"sk-container\" hidden><div class=\"sk-item sk-dashed-wrapped\"><div class=\"sk-label-container\"><div class=\"sk-label sk-toggleable\"><input class=\"sk-toggleable__control sk-hidden--visually\" id=\"sk-estimator-id-9\" type=\"checkbox\" ><label for=\"sk-estimator-id-9\" class=\"sk-toggleable__label sk-toggleable__label-arrow\">Pipeline</label><div class=\"sk-toggleable__content\"><pre>Pipeline(steps=[(&#x27;tf-idf&#x27;, TfidfVectorizer()), (&#x27;clf&#x27;, MultinomialNB())])</pre></div></div></div><div class=\"sk-serial\"><div class=\"sk-item\"><div class=\"sk-estimator sk-toggleable\"><input class=\"sk-toggleable__control sk-hidden--visually\" id=\"sk-estimator-id-10\" type=\"checkbox\" ><label for=\"sk-estimator-id-10\" class=\"sk-toggleable__label sk-toggleable__label-arrow\">TfidfVectorizer</label><div class=\"sk-toggleable__content\"><pre>TfidfVectorizer()</pre></div></div></div><div class=\"sk-item\"><div class=\"sk-estimator sk-toggleable\"><input class=\"sk-toggleable__control sk-hidden--visually\" id=\"sk-estimator-id-11\" type=\"checkbox\" ><label for=\"sk-estimator-id-11\" class=\"sk-toggleable__label sk-toggleable__label-arrow\">MultinomialNB</label><div class=\"sk-toggleable__content\"><pre>MultinomialNB()</pre></div></div></div></div></div></div></div>"
      ],
      "text/plain": [
       "Pipeline(steps=[('tf-idf', TfidfVectorizer()), ('clf', MultinomialNB())])"
      ]
     },
     "execution_count": 33,
     "metadata": {},
     "output_type": "execute_result"
    }
   ],
   "source": [
    "from sklearn.feature_extraction.text import TfidfVectorizer\n",
    "from sklearn.naive_bayes import MultinomialNB\n",
    "from sklearn.pipeline import Pipeline\n",
    "# create a pipeline\n",
    "model_0=Pipeline([ \n",
    "    (\"tf-idf\",TfidfVectorizer()),\n",
    "    (\"clf\",MultinomialNB())\n",
    "])\n",
    "# Fit pipeline to training data\n",
    "model_0.fit(train_sentence,train_label_encoded)"
   ]
  },
  {
   "cell_type": "code",
   "execution_count": 34,
   "metadata": {},
   "outputs": [
    {
     "data": {
      "text/plain": [
       "0.7218323844829869"
      ]
     },
     "execution_count": 34,
     "metadata": {},
     "output_type": "execute_result"
    }
   ],
   "source": [
    "# Evaluate the model\n",
    "model_0.score(val_sentence,val_label_encoded)"
   ]
  },
  {
   "cell_type": "code",
   "execution_count": 35,
   "metadata": {},
   "outputs": [],
   "source": [
    "# make prediction using baseline method\n",
    "baseline_pred=model_0.predict(val_sentence)\n"
   ]
  },
  {
   "cell_type": "code",
   "execution_count": 38,
   "metadata": {},
   "outputs": [
    {
     "data": {
      "text/plain": [
       "{'accuracy': 72.1832384482987,\n",
       " 'precision': 0.7186466952323352,\n",
       " 'recall': 0.7218323844829869,\n",
       " 'f1': 0.6989250353450294}"
      ]
     },
     "execution_count": 38,
     "metadata": {},
     "output_type": "execute_result"
    }
   ],
   "source": [
    "from helper_function import calculate_results\n",
    "baseline_result=calculate_results(y_true=val_label_encoded,y_pred=baseline_pred,)\n",
    "baseline_result"
   ]
  },
  {
   "cell_type": "markdown",
   "metadata": {},
   "source": [
    "# preparing our data for deep sequence model\n",
    "creating vectorisation and embeddings"
   ]
  },
  {
   "cell_type": "code",
   "execution_count": 41,
   "metadata": {},
   "outputs": [],
   "source": [
    "import numpy as np\n",
    "import tensorflow as tf\n",
    "from tensorflow.keras import layers"
   ]
  },
  {
   "cell_type": "code",
   "execution_count": 44,
   "metadata": {},
   "outputs": [
    {
     "data": {
      "text/plain": [
       "26.338269273494777"
      ]
     },
     "execution_count": 44,
     "metadata": {},
     "output_type": "execute_result"
    }
   ],
   "source": [
    "# how long is sentence is avg\n",
    "sent_lens=[len(sentence.split()) for sentence in train_sentence]\n",
    "avg_sen_lens=np.mean(sent_lens)\n",
    "avg_sen_lens"
   ]
  },
  {
   "cell_type": "code",
   "execution_count": 46,
   "metadata": {},
   "outputs": [
    {
     "data": {
      "text/plain": [
       "(array([1.5999e+05, 1.8760e+04, 1.1510e+03, 9.9000e+01, 2.8000e+01,\n",
       "        1.0000e+01, 2.0000e+00]),\n",
       " array([  1.        ,  43.14285714,  85.28571429, 127.42857143,\n",
       "        169.57142857, 211.71428571, 253.85714286, 296.        ]),\n",
       " <BarContainer object of 7 artists>)"
      ]
     },
     "execution_count": 46,
     "metadata": {},
     "output_type": "execute_result"
    },
    {
     "data": {
      "image/png": "[encoded data removed]",
      "text/plain": [
       "<Figure size 640x480 with 1 Axes>"
      ]
     },
     "metadata": {},
     "output_type": "display_data"
    }
   ],
   "source": [
    "# what's the distribution looks like\n",
    "plt.hist(sent_lens,bins=7)"
   ]
  },
  {
   "cell_type": "code",
   "execution_count": 48,
   "metadata": {},
   "outputs": [
    {
     "data": {
      "text/plain": [
       "55"
      ]
     },
     "execution_count": 48,
     "metadata": {},
     "output_type": "execute_result"
    }
   ],
   "source": [
    "#how long of a sentence length cover 95% of examples\n",
    "out_seq_length=int(np.percentile(sent_lens,95))\n",
    "out_seq_length"
   ]
  },
  {
   "cell_type": "code",
   "execution_count": 49,
   "metadata": {},
   "outputs": [
    {
     "data": {
      "text/plain": [
       "296"
      ]
     },
     "execution_count": 49,
     "metadata": {},
     "output_type": "execute_result"
    }
   ],
   "source": [
    "max(sent_lens)\n"
   ]
  },
  {
   "cell_type": "code",
   "execution_count": 50,
   "metadata": {},
   "outputs": [],
   "source": [
    "# words in our vacab\n",
    "max_token=68000"
   ]
  },
  {
   "cell_type": "code",
   "execution_count": 51,
   "metadata": {},
   "outputs": [],
   "source": [
    "# create text vectorizer\n",
    "from tensorflow.keras.layers.experimental.preprocessing import TextVectorization\n",
    "text_vectorizer=TextVectorization(max_tokens=max_token,output_sequence_length=out_seq_length)"
   ]
  },
  {
   "cell_type": "code",
   "execution_count": 52,
   "metadata": {},
   "outputs": [],
   "source": [
    "text_vectorizer.adapt(train_sentence)"
   ]
  },
  {
   "cell_type": "code",
   "execution_count": 58,
   "metadata": {},
   "outputs": [
    {
     "name": "stdout",
     "output_type": "stream",
     "text": [
      "Target sentence:\tleu-enriched eaa ingestion after re may prolong the anabolic response and sensitivity of skeletal muscle to amino acids in older adults .\n",
      "Length of target sentence:\t137\n",
      "Vectorised Target sentence:\t[53747 11219  2548    21  4013    91  5487     2  9245   142     3   509\n",
      "     4  2681   368     6  2729  1458     5   350   266     0     0     0\n",
      "     0     0     0     0     0     0     0     0     0     0     0     0\n",
      "     0     0     0     0     0     0     0     0     0     0     0     0\n",
      "     0     0     0     0     0     0     0]\n"
     ]
    }
   ],
   "source": [
    "# test text_vectorizer on random sentence\n",
    "import random\n",
    "target_sentence=random.choice(train_sentence)\n",
    "print(f\"Target sentence:\\t{target_sentence}\")\n",
    "print(f\"Length of target sentence:\\t{len(target_sentence)}\")\n",
    "print(f\"Vectorised Target sentence:\\t{text_vectorizer(target_sentence)}\")"
   ]
  },
  {
   "cell_type": "code",
   "execution_count": 56,
   "metadata": {},
   "outputs": [
    {
     "name": "stdout",
     "output_type": "stream",
     "text": [
      "Number of words in vocab:\t64841\n",
      "Most common words in vocab:\t['', '[UNK]', 'the', 'and', 'of']\n",
      "Least common words in vocab:\t['aainduced', 'aaigroup', 'aachener', 'aachen', 'aaacp']\n"
     ]
    }
   ],
   "source": [
    "# how many words in our training vocab \n",
    "rct_20k_text_vocab=text_vectorizer.get_vocabulary()\n",
    "print(f'Number of words in vocab:\\t{len(rct_20k_text_vocab)}')\n",
    "print(f'Most common words in vocab:\\t{rct_20k_text_vocab[:5]}')\n",
    "print(f'Least common words in vocab:\\t{rct_20k_text_vocab[-5:]}')"
   ]
  },
  {
   "cell_type": "code",
   "execution_count": 55,
   "metadata": {},
   "outputs": [
    {
     "data": {
      "text/plain": [
       "{'name': 'text_vectorization',\n",
       " 'trainable': True,\n",
       " 'dtype': 'string',\n",
       " 'batch_input_shape': (None,),\n",
       " 'max_tokens': 68000,\n",
       " 'standardize': 'lower_and_strip_punctuation',\n",
       " 'split': 'whitespace',\n",
       " 'ngrams': None,\n",
       " 'output_mode': 'int',\n",
       " 'output_sequence_length': 55,\n",
       " 'pad_to_max_tokens': False,\n",
       " 'sparse': False,\n",
       " 'ragged': False,\n",
       " 'vocabulary': None,\n",
       " 'idf_weights': None,\n",
       " 'encoding': 'utf-8',\n",
       " 'vocabulary_size': 64841}"
      ]
     },
     "execution_count": 55,
     "metadata": {},
     "output_type": "execute_result"
    }
   ],
   "source": [
    "text_vectorizer.get_config()"
   ]
  },
  {
   "cell_type": "code",
   "execution_count": 57,
   "metadata": {},
   "outputs": [],
   "source": [
    "# create token embed layer\n",
    "token_embed=layers.Embedding(input_dim=len(rct_20k_text_vocab),\n",
    "                             output_dim=128,\n",
    "                             mask_zero=True,#use to handle variable sequence length\n",
    "                             name=\"Token_embedding\")"
   ]
  },
  {
   "cell_type": "code",
   "execution_count": 61,
   "metadata": {},
   "outputs": [
    {
     "name": "stdout",
     "output_type": "stream",
     "text": [
      "Target sentence:\n",
      "leu-enriched eaa ingestion after re may prolong the anabolic response and sensitivity of skeletal muscle to amino acids in older adults .\n",
      "\n",
      "Vectorised Text (before embedding):\n",
      "[[53747 11219  2548    21  4013    91  5487     2  9245   142     3   509\n",
      "      4  2681   368     6  2729  1458     5   350   266     0     0     0\n",
      "      0     0     0     0     0     0     0     0     0     0     0     0\n",
      "      0     0     0     0     0     0     0     0     0     0     0     0\n",
      "      0     0     0     0     0     0     0]]\n",
      "\n",
      "Embedded sentence:\n",
      "[[[ 0.02174083  0.01847147  0.02945835 ...  0.02010132 -0.03698208\n",
      "    0.01774832]\n",
      "  [ 0.00347211  0.02728711  0.02636672 ...  0.03208122 -0.00883631\n",
      "    0.03112677]\n",
      "  [ 0.04104086  0.01476697  0.01216958 ...  0.00974878  0.00522231\n",
      "    0.03054065]\n",
      "  ...\n",
      "  [-0.02504905 -0.01292958 -0.02114464 ... -0.00046812 -0.03296359\n",
      "   -0.03560666]\n",
      "  [-0.02504905 -0.01292958 -0.02114464 ... -0.00046812 -0.03296359\n",
      "   -0.03560666]\n",
      "  [-0.02504905 -0.01292958 -0.02114464 ... -0.00046812 -0.03296359\n",
      "   -0.03560666]]]\n",
      "\n",
      "Embedded sentence shape:\n",
      "(1, 55, 128)\n"
     ]
    }
   ],
   "source": [
    "# show example embedding\n",
    "print(f\"Target sentence:\\n{target_sentence}\\n\")\n",
    "vectorised_text=text_vectorizer([target_sentence])\n",
    "print(f'Vectorised Text (before embedding):\\n{vectorised_text}\\n')\n",
    "embed_text=token_embed(vectorised_text)\n",
    "print(f'Embedded sentence:\\n{embed_text}\\n')\n",
    "print(f'Embedded sentence shape:\\n{embed_text.shape}')"
   ]
  },
  {
   "cell_type": "markdown",
   "metadata": {},
   "source": [
    "**creating dataset (making sure our data loads as fast as possible)**\n",
    "Tensorflow TfdataApi\n"
   ]
  },
  {
   "cell_type": "code",
   "execution_count": 66,
   "metadata": {},
   "outputs": [
    {
     "data": {
      "text/plain": [
       "<_TensorSliceDataset element_spec=(TensorSpec(shape=(), dtype=tf.string, name=None), TensorSpec(shape=(5,), dtype=tf.float64, name=None))>"
      ]
     },
     "execution_count": 66,
     "metadata": {},
     "output_type": "execute_result"
    }
   ],
   "source": [
    "# turn our data into Tensorflow dataset\n",
    "train_dataset=tf.data.Dataset.from_tensor_slices((train_sentence,train_label_one_hot))\n",
    "valid_dataset=tf.data.Dataset.from_tensor_slices((val_sentence,val_label_one_hot))\n",
    "test_dataset=tf.data.Dataset.from_tensor_slices((test_sentence,test_label_one_hot))\n",
    "train_dataset"
   ]
  },
  {
   "cell_type": "code",
   "execution_count": 67,
   "metadata": {},
   "outputs": [
    {
     "data": {
      "text/plain": [
       "<_PrefetchDataset element_spec=(TensorSpec(shape=(None,), dtype=tf.string, name=None), TensorSpec(shape=(None, 5), dtype=tf.float64, name=None))>"
      ]
     },
     "execution_count": 67,
     "metadata": {},
     "output_type": "execute_result"
    }
   ],
   "source": [
    "train_dataset=train_dataset.batch(32).prefetch(tf.data.AUTOTUNE)\n",
    "valid_dataset=valid_dataset.batch(32).prefetch(tf.data.AUTOTUNE)\n",
    "test_dataset=test_dataset.batch(32).prefetch(tf.data.AUTOTUNE)\n",
    "train_dataset"
   ]
  },
  {
   "cell_type": "markdown",
   "metadata": {},
   "source": [
    "👆🏻do not run the shell more than once\n"
   ]
  },
  {
   "cell_type": "markdown",
   "metadata": {},
   "source": [
    "# model_1:conv_1D with token embeddings"
   ]
  },
  {
   "cell_type": "code",
   "execution_count": 73,
   "metadata": {},
   "outputs": [
    {
     "name": "stdout",
     "output_type": "stream",
     "text": [
      "Model: \"model_1\"\n",
      "_________________________________________________________________\n",
      " Layer (type)                Output Shape              Param #   \n",
      "=================================================================\n",
      " input_6 (InputLayer)        [(None, 1)]               0         \n",
      "                                                                 \n",
      " text_vectorization (TextVe  (None, 55)                0         \n",
      " ctorization)                                                    \n",
      "                                                                 \n",
      " Token_embedding (Embedding  (None, 55, 128)           8299648   \n",
      " )                                                               \n",
      "                                                                 \n",
      " conv1d_1 (Conv1D)           (None, 55, 64)            41024     \n",
      "                                                                 \n",
      " global_average_pooling1d_1  (None, 64)                0         \n",
      "  (GlobalAveragePooling1D)                                       \n",
      "                                                                 \n",
      " dense_1 (Dense)             (None, 5)                 325       \n",
      "                                                                 \n",
      "=================================================================\n",
      "Total params: 8340997 (31.82 MB)\n",
      "Trainable params: 8340997 (31.82 MB)\n",
      "Non-trainable params: 0 (0.00 Byte)\n",
      "_________________________________________________________________\n"
     ]
    }
   ],
   "source": [
    "# create conv:1D model to process the sequence\n",
    "inputs=layers.Input(shape=(1,),dtype=tf.string)\n",
    "text_vectors=text_vectorizer(inputs)\n",
    "token_embedding=token_embed(text_vectors)\n",
    "x=layers.Conv1D(64,kernel_size=5,padding='same',activation=\"relu\")(token_embedding)\n",
    "x=layers.GlobalAveragePooling1D()(x)\n",
    "outputs=layers.Dense(num_classes,activation=\"softmax\")(x)\n",
    "model_1=tf.keras.Model(inputs,outputs)\n",
    "\n",
    "# compile the model\n",
    "model_1.compile(optimizer='adam', loss='categorical_crossentropy', metrics=['accuracy'])\n",
    "model_1.summary()\n"
   ]
  },
  {
   "cell_type": "code",
   "execution_count": 74,
   "metadata": {},
   "outputs": [
    {
     "name": "stdout",
     "output_type": "stream",
     "text": [
      "Epoch 1/3\n",
      "562/562 [==============================] - 14s 25ms/step - loss: 0.9186 - accuracy: 0.6347 - val_loss: 0.6844 - val_accuracy: 0.7420\n",
      "Epoch 2/3\n",
      "562/562 [==============================] - 14s 25ms/step - loss: 0.6587 - accuracy: 0.7556 - val_loss: 0.6311 - val_accuracy: 0.7689\n",
      "Epoch 3/3\n",
      "562/562 [==============================] - 14s 24ms/step - loss: 0.6180 - accuracy: 0.7760 - val_loss: 0.5966 - val_accuracy: 0.7859\n"
     ]
    }
   ],
   "source": [
    "history_model_1=model_1.fit(train_dataset,\n",
    "                            steps_per_epoch=int(0.1*len(train_dataset)),\n",
    "                            epochs=3,\n",
    "                            validation_data=valid_dataset,\n",
    "                            validation_steps=int(0.1*len(valid_dataset)))"
   ]
  },
  {
   "cell_type": "code",
   "execution_count": 75,
   "metadata": {},
   "outputs": [
    {
     "name": "stdout",
     "output_type": "stream",
     "text": [
      "945/945 [==============================] - 1s 1ms/step - loss: 0.5999 - accuracy: 0.7864\n"
     ]
    },
    {
     "data": {
      "text/plain": [
       "[0.5999487638473511, 0.7864424586296082]"
      ]
     },
     "execution_count": 75,
     "metadata": {},
     "output_type": "execute_result"
    }
   ],
   "source": [
    "model_1.evaluate(valid_dataset)"
   ]
  },
  {
   "cell_type": "code",
   "execution_count": 76,
   "metadata": {},
   "outputs": [
    {
     "name": "stdout",
     "output_type": "stream",
     "text": [
      "945/945 [==============================] - 1s 1ms/step\n"
     ]
    },
    {
     "data": {
      "text/plain": [
       "(array([[4.2644578e-01, 1.5086779e-01, 1.0798279e-01, 2.8799090e-01,\n",
       "         2.6712788e-02],\n",
       "        [4.4697219e-01, 2.5432533e-01, 1.1557486e-02, 2.8098053e-01,\n",
       "         6.1644847e-03],\n",
       "        [1.2407809e-01, 1.1412474e-02, 1.2676114e-03, 8.6321378e-01,\n",
       "         2.8129194e-05],\n",
       "        ...,\n",
       "        [4.4651074e-06, 9.4174955e-04, 5.4635585e-04, 2.3565235e-06,\n",
       "         9.9850512e-01],\n",
       "        [5.9979562e-02, 4.4217119e-01, 1.3811941e-01, 7.9382464e-02,\n",
       "         2.8034741e-01],\n",
       "        [1.5253720e-01, 6.9381845e-01, 3.0914152e-02, 4.0050186e-02,\n",
       "         8.2680024e-02]], dtype=float32),\n",
       " (30212, 5))"
      ]
     },
     "execution_count": 76,
     "metadata": {},
     "output_type": "execute_result"
    }
   ],
   "source": [
    "# make prediction \n",
    "model_1_pred_prob=model_1.predict(valid_dataset)\n",
    "model_1_pred_prob,model_1_pred_prob.shape"
   ]
  },
  {
   "cell_type": "code",
   "execution_count": 77,
   "metadata": {},
   "outputs": [
    {
     "data": {
      "text/plain": [
       "<tf.Tensor: shape=(30212,), dtype=int64, numpy=array([0, 0, 3, ..., 4, 1, 1])>"
      ]
     },
     "execution_count": 77,
     "metadata": {},
     "output_type": "execute_result"
    }
   ],
   "source": [
    "# convert pred_probs to classes\n",
    "model_1_preds=tf.argmax(model_1_pred_prob,axis=1)\n",
    "model_1_preds"
   ]
  },
  {
   "cell_type": "code",
   "execution_count": 78,
   "metadata": {},
   "outputs": [
    {
     "data": {
      "text/plain": [
       "array(['BACKGROUND', 'CONCLUSIONS', 'METHODS', 'OBJECTIVE', 'RESULTS'],\n",
       "      dtype=object)"
      ]
     },
     "execution_count": 78,
     "metadata": {},
     "output_type": "execute_result"
    }
   ],
   "source": [
    "names_class"
   ]
  },
  {
   "cell_type": "code",
   "execution_count": 79,
   "metadata": {},
   "outputs": [
    {
     "data": {
      "text/plain": [
       "{'accuracy': 78.64424731894611,\n",
       " 'precision': 0.783570123762238,\n",
       " 'recall': 0.7864424731894611,\n",
       " 'f1': 0.784340876241691}"
      ]
     },
     "execution_count": 79,
     "metadata": {},
     "output_type": "execute_result"
    }
   ],
   "source": [
    "# calculate model_result\n",
    "model_1_result=calculate_results(y_true=val_label_encoded,\n",
    "                                 y_pred=model_1_preds)\n",
    "model_1_result"
   ]
  },
  {
   "cell_type": "code",
   "execution_count": 80,
   "metadata": {},
   "outputs": [
    {
     "data": {
      "text/plain": [
       "{'accuracy': 72.1832384482987,\n",
       " 'precision': 0.7186466952323352,\n",
       " 'recall': 0.7218323844829869,\n",
       " 'f1': 0.6989250353450294}"
      ]
     },
     "execution_count": 80,
     "metadata": {},
     "output_type": "execute_result"
    }
   ],
   "source": [
    "baseline_result"
   ]
  },
  {
   "cell_type": "markdown",
   "metadata": {},
   "source": [
    "# Feature extraction with pretrained token embedding\n",
    "\n",
    "* Now let's use pretrained word embedding from [Tensorflow Hub](https://www.tensorflow.org/hub) more specifically the [universal sentence encoder](https://tfhub.dev/google/universal-sentence-encoder/4)"
   ]
  },
  {
   "cell_type": "code",
   "execution_count": 87,
   "metadata": {},
   "outputs": [],
   "source": [
    "import tensorflow_hub as hub\n",
    "model_url=\"https://tfhub.dev/google/universal-sentence-encoder/4\"\n",
    "tf_hub_embedding_layer=hub.KerasLayer(model_url,trainable=False,name=\"universal_model_encoder\")\n"
   ]
  },
  {
   "cell_type": "code",
   "execution_count": 91,
   "metadata": {},
   "outputs": [
    {
     "name": "stdout",
     "output_type": "stream",
     "text": [
      "Random_sentence:\n",
      "during the study period , @ patients were enrolled in the mantra-paf trial and randomized to receive aad ( n = @ ) or rfa ( n = @ ) .\n",
      "Sentence after embedding:\n",
      "[ 0.04489737 -0.03066579  0.00450228 -0.04732339 -0.05499103  0.03233\n",
      "  0.07160506 -0.01528414 -0.05354669 -0.06376673  0.08075926 -0.00634388\n",
      "  0.08466796  0.0480428   0.04119825 -0.00428582 -0.08443007 -0.03178567\n",
      "  0.03263806 -0.07911015  0.08352601  0.02648749 -0.04039235 -0.04051289\n",
      " -0.02799089  0.00411669  0.0393624   0.01987316  0.03467731 -0.0177483 ]\n",
      "embed_sentence shape:1\n"
     ]
    }
   ],
   "source": [
    "# test our pretrained embedding on random sentence\n",
    "random_train_sentence=random.choice(train_sentence)\n",
    "print(f'Random_sentence:\\n{random_train_sentence}')\n",
    "use_embed_sentence=tf_hub_embedding_layer([random_train_sentence])\n",
    "print(f'Sentence after embedding:\\n{use_embed_sentence[0][:30]}')\n",
    "print(f'embed_sentence shape:{len(use_embed_sentence)}')\n"
   ]
  },
  {
   "cell_type": "markdown",
   "metadata": {},
   "source": [
    "# building and fitting NLP feature extraction model using pretrained embeddings "
   ]
  },
  {
   "cell_type": "code",
   "execution_count": 92,
   "metadata": {},
   "outputs": [],
   "source": [
    "# define feature extraction model\n",
    "inputs=layers.Input(shape=[],dtype=tf.string)\n",
    "pretrained_embedding=tf_hub_embedding_layer(inputs)\n",
    "x=layers.Dense(128,activation=\"relu\")(pretrained_embedding)\n",
    "outputs=layers.Dense(num_classes,activation=\"softmax\")(x)\n",
    "model_2=tf.keras.Model(inputs,outputs,name=\"model_2_use_feature_extractor\")\n"
   ]
  },
  {
   "cell_type": "code",
   "execution_count": 93,
   "metadata": {},
   "outputs": [
    {
     "name": "stdout",
     "output_type": "stream",
     "text": [
      "Model: \"model_2_use_feature_extractor\"\n",
      "_________________________________________________________________\n",
      " Layer (type)                Output Shape              Param #   \n",
      "=================================================================\n",
      " input_7 (InputLayer)        [(None,)]                 0         \n",
      "                                                                 \n",
      " universal_model_encoder (K  (None, 512)               256797824 \n",
      " erasLayer)                                                      \n",
      "                                                                 \n",
      " dense_2 (Dense)             (None, 128)               65664     \n",
      "                                                                 \n",
      " dense_3 (Dense)             (None, 5)                 645       \n",
      "                                                                 \n",
      "=================================================================\n",
      "Total params: 256864133 (979.86 MB)\n",
      "Trainable params: 66309 (259.02 KB)\n",
      "Non-trainable params: 256797824 (979.61 MB)\n",
      "_________________________________________________________________\n"
     ]
    }
   ],
   "source": [
    "model_2.compile(optimizer='adam', loss='categorical_crossentropy', metrics=['accuracy'])\n",
    "model_2.summary()"
   ]
  },
  {
   "cell_type": "code",
   "execution_count": 94,
   "metadata": {},
   "outputs": [
    {
     "name": "stdout",
     "output_type": "stream",
     "text": [
      "Epoch 1/3\n",
      "562/562 [==============================] - 5s 5ms/step - loss: 0.9183 - accuracy: 0.6500 - val_loss: 0.7975 - val_accuracy: 0.6895\n",
      "Epoch 2/3\n",
      "562/562 [==============================] - 3s 4ms/step - loss: 0.7705 - accuracy: 0.6998 - val_loss: 0.7583 - val_accuracy: 0.7041\n",
      "Epoch 3/3\n",
      "562/562 [==============================] - 2s 4ms/step - loss: 0.7555 - accuracy: 0.7107 - val_loss: 0.7444 - val_accuracy: 0.7108\n"
     ]
    }
   ],
   "source": [
    "# Fit model_2 data\n",
    "history_model_2=model_2.fit(train_dataset,\n",
    "                            steps_per_epoch=int(0.1*len(train_dataset)),\n",
    "                            epochs=3,\n",
    "                            validation_data=valid_dataset,\n",
    "                            validation_steps=int(0.1*len(valid_dataset)))\n"
   ]
  },
  {
   "cell_type": "code",
   "execution_count": 95,
   "metadata": {},
   "outputs": [
    {
     "name": "stdout",
     "output_type": "stream",
     "text": [
      "945/945 [==============================] - 3s 4ms/step - loss: 0.7454 - accuracy: 0.7126\n"
     ]
    },
    {
     "data": {
      "text/plain": [
       "[0.7453789710998535, 0.7125645279884338]"
      ]
     },
     "execution_count": 95,
     "metadata": {},
     "output_type": "execute_result"
    }
   ],
   "source": [
    "model_2.evaluate(valid_dataset)"
   ]
  },
  {
   "cell_type": "code",
   "execution_count": 96,
   "metadata": {},
   "outputs": [
    {
     "name": "stdout",
     "output_type": "stream",
     "text": [
      "945/945 [==============================] - 4s 3ms/step\n"
     ]
    },
    {
     "data": {
      "text/plain": [
       "array([[0.44101283, 0.3368343 , 0.00201395, 0.21143112, 0.00870784],\n",
       "       [0.3231233 , 0.52961284, 0.0027923 , 0.14104159, 0.00342994],\n",
       "       [0.22385626, 0.15871595, 0.0189735 , 0.55776656, 0.04068768],\n",
       "       ...,\n",
       "       [0.00184711, 0.00668474, 0.05789457, 0.00105865, 0.93251497],\n",
       "       [0.00381543, 0.04405604, 0.17376395, 0.00148126, 0.7768833 ],\n",
       "       [0.19790417, 0.36688933, 0.37949586, 0.00633908, 0.04937148]],\n",
       "      dtype=float32)"
      ]
     },
     "execution_count": 96,
     "metadata": {},
     "output_type": "execute_result"
    }
   ],
   "source": [
    "# make prediction with feature extraction model\n",
    "model_2_pred_probs=model_2.predict(valid_dataset)\n",
    "model_2_pred_probs"
   ]
  },
  {
   "cell_type": "code",
   "execution_count": 97,
   "metadata": {},
   "outputs": [
    {
     "data": {
      "text/plain": [
       "<tf.Tensor: shape=(30212,), dtype=int64, numpy=array([0, 1, 3, ..., 4, 4, 2])>"
      ]
     },
     "execution_count": 97,
     "metadata": {},
     "output_type": "execute_result"
    }
   ],
   "source": [
    "model_2_preds=tf.argmax(model_2_pred_probs,axis=1)\n",
    "model_2_preds"
   ]
  },
  {
   "cell_type": "code",
   "execution_count": 99,
   "metadata": {},
   "outputs": [
    {
     "data": {
      "text/plain": [
       "{'accuracy': 71.25645438898451,\n",
       " 'precision': 0.7132764280823973,\n",
       " 'recall': 0.7125645438898451,\n",
       " 'f1': 0.7097089978600224}"
      ]
     },
     "execution_count": 99,
     "metadata": {},
     "output_type": "execute_result"
    }
   ],
   "source": [
    "# results\n",
    "model_2_result=calculate_results(y_pred=model_2_preds,y_true=val_label_encoded)\n",
    "model_2_result"
   ]
  },
  {
   "cell_type": "markdown",
   "metadata": {},
   "source": [
    "# Model_3 : Conv1D with character embeddings\n"
   ]
  },
  {
   "cell_type": "code",
   "execution_count": 100,
   "metadata": {},
   "outputs": [
    {
     "data": {
      "text/plain": [
       "['to investigate the efficacy of @ weeks of daily low-dose oral prednisolone in improving pain , mobility , and systemic low-grade inflammation in the short term and whether the effect would be sustained at @ weeks in older adults with moderate to severe knee osteoarthritis ( oa ) .',\n",
       " 'a total of @ patients with primary knee oa were randomized @:@ ; @ received @ mg/day of prednisolone and @ received placebo for @ weeks .',\n",
       " 'outcome measures included pain reduction and improvement in function scores and systemic inflammation markers .',\n",
       " 'pain was assessed using the visual analog pain scale ( @-@ mm ) .',\n",
       " 'secondary outcome measures included the western ontario and mcmaster universities osteoarthritis index scores , patient global assessment ( pga ) of the severity of knee oa , and @-min walk distance ( @mwd ) .']"
      ]
     },
     "execution_count": 100,
     "metadata": {},
     "output_type": "execute_result"
    }
   ],
   "source": [
    "# create a character level tokenizer\n",
    "#  this is going to map each charcter to some int\n",
    "train_sentence[:5]"
   ]
  },
  {
   "cell_type": "code",
   "execution_count": 103,
   "metadata": {},
   "outputs": [
    {
     "data": {
      "text/plain": [
       "'t o   i n v e s t i g a t e   t h e   e f f i c a c y   o f   @   w e e k s   o f   d a i l y   l o w - d o s e   o r a l   p r e d n i s o l o n e   i n   i m p r o v i n g   p a i n   ,   m o b i l i t y   ,   a n d   s y s t e m i c   l o w - g r a d e   i n f l a m m a t i o n   i n   t h e   s h o r t   t e r m   a n d   w h e t h e r   t h e   e f f e c t   w o u l d   b e   s u s t a i n e d   a t   @   w e e k s   i n   o l d e r   a d u l t s   w i t h   m o d e r a t e   t o   s e v e r e   k n e e   o s t e o a r t h r i t i s   (   o a   )   .'"
      ]
     },
     "execution_count": 103,
     "metadata": {},
     "output_type": "execute_result"
    }
   ],
   "source": [
    "def spilt_char(text):\n",
    "    return \" \".join(list(text))\n",
    "spilt_char(train_sentence[0])\n",
    "# list(train_sentence[0])"
   ]
  },
  {
   "cell_type": "code",
   "execution_count": 104,
   "metadata": {},
   "outputs": [
    {
     "data": {
      "text/plain": [
       "'d u r i n g   t h e   s t u d y   p e r i o d   ,   @   p a t i e n t s   w e r e   e n r o l l e d   i n   t h e   m a n t r a - p a f   t r i a l   a n d   r a n d o m i z e d   t o   r e c e i v e   a a d   (   n   =   @   )   o r   r f a   (   n   =   @   )   .'"
      ]
     },
     "execution_count": 104,
     "metadata": {},
     "output_type": "execute_result"
    }
   ],
   "source": [
    "# Text spiliting non charater level sequence into charcaters\n",
    "spilt_char(random_train_sentence)"
   ]
  },
  {
   "cell_type": "code",
   "execution_count": 105,
   "metadata": {},
   "outputs": [
    {
     "name": "stdout",
     "output_type": "stream",
     "text": [
      "['t o   i n v e s t i g a t e   t h e   e f f i c a c y   o f   @   w e e k s   o f   d a i l y   l o w - d o s e   o r a l   p r e d n i s o l o n e   i n   i m p r o v i n g   p a i n   ,   m o b i l i t y   ,   a n d   s y s t e m i c   l o w - g r a d e   i n f l a m m a t i o n   i n   t h e   s h o r t   t e r m   a n d   w h e t h e r   t h e   e f f e c t   w o u l d   b e   s u s t a i n e d   a t   @   w e e k s   i n   o l d e r   a d u l t s   w i t h   m o d e r a t e   t o   s e v e r e   k n e e   o s t e o a r t h r i t i s   (   o a   )   .', 'a   t o t a l   o f   @   p a t i e n t s   w i t h   p r i m a r y   k n e e   o a   w e r e   r a n d o m i z e d   @ : @   ;   @   r e c e i v e d   @   m g / d a y   o f   p r e d n i s o l o n e   a n d   @   r e c e i v e d   p l a c e b o   f o r   @   w e e k s   .', 'o u t c o m e   m e a s u r e s   i n c l u d e d   p a i n   r e d u c t i o n   a n d   i m p r o v e m e n t   i n   f u n c t i o n   s c o r e s   a n d   s y s t e m i c   i n f l a m m a t i o n   m a r k e r s   .', 'p a i n   w a s   a s s e s s e d   u s i n g   t h e   v i s u a l   a n a l o g   p a i n   s c a l e   (   @ - @   m m   )   .', 's e c o n d a r y   o u t c o m e   m e a s u r e s   i n c l u d e d   t h e   w e s t e r n   o n t a r i o   a n d   m c m a s t e r   u n i v e r s i t i e s   o s t e o a r t h r i t i s   i n d e x   s c o r e s   ,   p a t i e n t   g l o b a l   a s s e s s m e n t   (   p g a   )   o f   t h e   s e v e r i t y   o f   k n e e   o a   ,   a n d   @ - m i n   w a l k   d i s t a n c e   (   @ m w d   )   .']\n"
     ]
    }
   ],
   "source": [
    "# Spilt sequence-level data spilts into charcater level data spilts\n",
    "train_chars=[spilt_char(sentence) for sentence in train_sentence]\n",
    "valid_chars=[spilt_char(sentence) for sentence in val_sentence]\n",
    "test_chars=[spilt_char(sentence) for sentence in test_sentence]\n",
    "print(train_chars[:5])"
   ]
  },
  {
   "cell_type": "code",
   "execution_count": 106,
   "metadata": {},
   "outputs": [
    {
     "data": {
      "text/plain": [
       "149.3662574983337"
      ]
     },
     "execution_count": 106,
     "metadata": {},
     "output_type": "execute_result"
    }
   ],
   "source": [
    "# avg character length\n",
    "char_lens=[len(sentence) for sentence in train_sentence]\n",
    "mean_char_len=np.mean(char_lens)\n",
    "mean_char_len"
   ]
  },
  {
   "cell_type": "code",
   "execution_count": 107,
   "metadata": {},
   "outputs": [
    {
     "data": {
      "image/png": "[encoded data removed]",
      "text/plain": [
       "<Figure size 640x480 with 1 Axes>"
      ]
     },
     "metadata": {},
     "output_type": "display_data"
    }
   ],
   "source": [
    "# check the distribution of our sequence at character-level\n",
    "import matplotlib.pyplot as plt\n",
    "plt.hist(char_lens,bins=7);"
   ]
  },
  {
   "cell_type": "code",
   "execution_count": 108,
   "metadata": {},
   "outputs": [
    {
     "data": {
      "text/plain": [
       "290"
      ]
     },
     "execution_count": 108,
     "metadata": {},
     "output_type": "execute_result"
    }
   ],
   "source": [
    "# what character lenght covers 95% of sequences\n",
    "output_seq_char_len=int(np.percentile(char_lens,95))\n",
    "output_seq_char_len"
   ]
  },
  {
   "cell_type": "code",
   "execution_count": 109,
   "metadata": {},
   "outputs": [
    {
     "data": {
      "text/plain": [
       "'abcdefghijklmnopqrstuvwxyz0123456789!\"#$%&\\'()*+,-./:;<=>?@[\\\\]^_`{|}~'"
      ]
     },
     "execution_count": 109,
     "metadata": {},
     "output_type": "execute_result"
    }
   ],
   "source": [
    "import string\n",
    "alphabet=string.ascii_lowercase+string.digits+string.punctuation\n",
    "alphabet"
   ]
  },
  {
   "cell_type": "code",
   "execution_count": 110,
   "metadata": {},
   "outputs": [],
   "source": [
    "# create char-level token vectorizer\n",
    "NUM_CHAR_TOKENS=len(alphabet)+2\n",
    "char_vectorizer=TextVectorization(max_tokens=NUM_CHAR_TOKENS,output_sequence_length=output_seq_char_len,name=\"char_vectorizer\")"
   ]
  },
  {
   "cell_type": "code",
   "execution_count": 111,
   "metadata": {},
   "outputs": [],
   "source": [
    "# Adapt charcater-vectorizer to training character\n",
    "char_vectorizer.adapt(train_chars)\n",
    "\n"
   ]
  },
  {
   "cell_type": "code",
   "execution_count": 112,
   "metadata": {},
   "outputs": [
    {
     "name": "stdout",
     "output_type": "stream",
     "text": [
      "Number of different character in character_vocab:28\n",
      "5 most common character:['', '[UNK]', 'e', 't', 'i']\n",
      "5 most uncommon character:['k', 'x', 'z', 'q', 'j']\n"
     ]
    }
   ],
   "source": [
    "# check character vocab stats\n",
    "char_vocab=char_vectorizer.get_vocabulary()\n",
    "print(f'Number of different character in character_vocab:{len(char_vocab)}')\n",
    "print(f'5 most common character:{char_vocab[:5]}')\n",
    "print(f'5 most uncommon character:{char_vocab[-5:]}')"
   ]
  },
  {
   "cell_type": "code",
   "execution_count": 118,
   "metadata": {},
   "outputs": [
    {
     "name": "stdout",
     "output_type": "stream",
     "text": [
      "Random_char:\n",
      "b e t w e e n   f e b   @   ,   @   ,   a n d   s e p t   @   ,   @   ,   @   p a t i e n t s   w e r e   r a n d o m l y   a s s i g n e d   t o   c l i n i c   p l u s   c o m m u n i t y   s u p p o r t   a n d   @   t o   s t a n d a r d   c a r e   .\n",
      "\n",
      "Len of random_char:\n",
      "101\n",
      "\n",
      "Vectorised char:\n",
      "[22  2  3 20  2  2  6 17  2 22  5  6 10  9  2 14  3 14  5  3  4  2  6  3\n",
      "  9 20  2  8  2  8  5  6 10  7 15 12 19  5  9  9  4 18  6  2 10  3  7 11\n",
      " 12  4  6  4 11 14 12 16  9 11  7 15 15 16  6  4  3 19  9 16 14 14  7  8\n",
      "  3  5  6 10  3  7  9  3  5  6 10  5  8 10 11  5  8  2  0  0  0  0  0  0\n",
      "  0  0  0  0  0  0  0  0  0  0  0  0  0  0  0  0  0  0  0  0  0  0  0  0\n",
      "  0  0  0  0  0  0  0  0  0  0  0  0  0  0  0  0  0  0  0  0  0  0  0  0\n",
      "  0  0  0  0  0  0  0  0  0  0  0  0  0  0  0  0  0  0  0  0  0  0  0  0\n",
      "  0  0  0  0  0  0  0  0  0  0  0  0  0  0  0  0  0  0  0  0  0  0  0  0\n",
      "  0  0  0  0  0  0  0  0  0  0  0  0  0  0  0  0  0  0  0  0  0  0  0  0\n",
      "  0  0  0  0  0  0  0  0  0  0  0  0  0  0  0  0  0  0  0  0  0  0  0  0\n",
      "  0  0  0  0  0  0  0  0  0  0  0  0  0  0  0  0  0  0  0  0  0  0  0  0\n",
      "  0  0  0  0  0  0  0  0  0  0  0  0  0  0  0  0  0  0  0  0  0  0  0  0\n",
      "  0  0]\n",
      "\n",
      " vectorised_char Length:\n",
      "290\n"
     ]
    }
   ],
   "source": [
    "# test out char_vectorizer\n",
    "random_char=random.choice(train_chars)\n",
    "print(f'Random_char:\\n{random_char}\\n')\n",
    "print(f'Len of random_char:\\n{len(random_char.split())}\\n')\n",
    "vectorised_char=char_vectorizer(random_char)\n",
    "print(f'Vectorised char:\\n{vectorised_char}\\n')\n",
    "print(f' vectorised_char Length:\\n{len(vectorised_char)}')\n",
    "\n"
   ]
  },
  {
   "cell_type": "markdown",
   "metadata": {},
   "source": [
    "# Creating a character level embedding\n"
   ]
  },
  {
   "cell_type": "code",
   "execution_count": 119,
   "metadata": {},
   "outputs": [],
   "source": [
    "char_embed=layers.Embedding(input_dim=len(char_vocab),\n",
    "                            output_dim=25,# from the paper itself\n",
    "                            mask_zero=True,\n",
    "                            name=\"char_embed\")\n"
   ]
  },
  {
   "cell_type": "code",
   "execution_count": 121,
   "metadata": {},
   "outputs": [
    {
     "name": "stdout",
     "output_type": "stream",
     "text": [
      "Charified text:\n",
      "b e t w e e n   f e b   @   ,   @   ,   a n d   s e p t   @   ,   @   ,   @   p a t i e n t s   w e r e   r a n d o m l y   a s s i g n e d   t o   c l i n i c   p l u s   c o m m u n i t y   s u p p o r t   a n d   @   t o   s t a n d a r d   c a r e   .\n",
      "Embedded char:\n",
      "[[-0.00216473  0.04368866 -0.0414394  ...  0.02553073 -0.02856851\n",
      "  -0.00242285]\n",
      " [ 0.04659021 -0.02455063 -0.03581431 ... -0.00729131 -0.01115816\n",
      "   0.04115817]\n",
      " [-0.0294889  -0.03507514  0.0153514  ...  0.03160021 -0.01474099\n",
      "   0.04279155]\n",
      " ...\n",
      " [ 0.02338675 -0.01987895  0.03565068 ... -0.04627844 -0.02142141\n",
      "   0.03212336]\n",
      " [ 0.02338675 -0.01987895  0.03565068 ... -0.04627844 -0.02142141\n",
      "   0.03212336]\n",
      " [ 0.02338675 -0.01987895  0.03565068 ... -0.04627844 -0.02142141\n",
      "   0.03212336]]\n",
      "Shape of Embedded character:\n",
      "(290, 25)\n"
     ]
    }
   ],
   "source": [
    "# Test our character embedding layer\n",
    "print(f'Charified text:\\n{random_char}')\n",
    "char_embed_ex=char_embed(char_vectorizer(random_char))\n",
    "print(f\"Embedded char:\\n{char_embed_ex}\")\n",
    "print(f'Shape of Embedded character:\\n{char_embed_ex.shape}')"
   ]
  },
  {
   "cell_type": "code",
   "execution_count": 122,
   "metadata": {},
   "outputs": [
    {
     "data": {
      "text/plain": [
       "255"
      ]
     },
     "execution_count": 122,
     "metadata": {},
     "output_type": "execute_result"
    }
   ],
   "source": [
    "len(random_char)"
   ]
  },
  {
   "cell_type": "markdown",
   "metadata": {},
   "source": [
    "# Building a conv1D model to fit char_embedding"
   ]
  },
  {
   "cell_type": "code",
   "execution_count": 129,
   "metadata": {},
   "outputs": [],
   "source": [
    "inputs=layers.Input(shape=(1,),dtype=tf.string)\n",
    "char_vector=char_vectorizer(inputs)\n",
    "char_embeddings=char_embed(char_vector)\n",
    "x=layers.Conv1D(64,kernel_size=5,padding=\"same\",activation=\"relu\")(char_embeddings)\n",
    "x=layers.GlobalMaxPool1D()(x)\n",
    "outputs=layers.Dense(num_classes,activation=\"softmax\")(x)\n",
    "model_3=tf.keras.Model(inputs,outputs,name=\"con1D_char_embedding\")\n",
    "# compile\n",
    "model_3.compile(optimizer='adam', loss='categorical_crossentropy', metrics=['accuracy'])\n"
   ]
  },
  {
   "cell_type": "code",
   "execution_count": 130,
   "metadata": {},
   "outputs": [
    {
     "name": "stdout",
     "output_type": "stream",
     "text": [
      "Model: \"con1D_char_embedding\"\n",
      "_________________________________________________________________\n",
      " Layer (type)                Output Shape              Param #   \n",
      "=================================================================\n",
      " input_11 (InputLayer)       [(None, 1)]               0         \n",
      "                                                                 \n",
      " char_vectorizer (TextVecto  (None, 290)               0         \n",
      " rization)                                                       \n",
      "                                                                 \n",
      " char_embed (Embedding)      (None, 290, 25)           700       \n",
      "                                                                 \n",
      " conv1d_3 (Conv1D)           (None, 290, 64)           8064      \n",
      "                                                                 \n",
      " global_max_pooling1d (Glob  (None, 64)                0         \n",
      " alMaxPooling1D)                                                 \n",
      "                                                                 \n",
      " dense_5 (Dense)             (None, 5)                 325       \n",
      "                                                                 \n",
      "=================================================================\n",
      "Total params: 9089 (35.50 KB)\n",
      "Trainable params: 9089 (35.50 KB)\n",
      "Non-trainable params: 0 (0.00 Byte)\n",
      "_________________________________________________________________\n"
     ]
    }
   ],
   "source": [
    "model_3.summary()"
   ]
  },
  {
   "cell_type": "code",
   "execution_count": 131,
   "metadata": {},
   "outputs": [
    {
     "data": {
      "text/plain": [
       "<_PrefetchDataset element_spec=(TensorSpec(shape=(None,), dtype=tf.string, name=None), TensorSpec(shape=(None, 5), dtype=tf.float64, name=None))>"
      ]
     },
     "execution_count": 131,
     "metadata": {},
     "output_type": "execute_result"
    }
   ],
   "source": [
    "# create char level dataset\n",
    "train_char_dataset=tf.data.Dataset.from_tensor_slices((train_chars,train_label_one_hot)).batch(32).prefetch(tf.data.AUTOTUNE)\n",
    "val_char_dataset=tf.data.Dataset.from_tensor_slices((valid_chars,val_label_one_hot)).batch(32).prefetch(tf.data.AUTOTUNE)\n",
    "test_char_dataset=tf.data.Dataset.from_tensor_slices((test_chars,test_label_one_hot)).batch(32).prefetch(tf.data.AUTOTUNE)\n",
    "train_char_dataset"
   ]
  },
  {
   "cell_type": "code",
   "execution_count": 132,
   "metadata": {},
   "outputs": [
    {
     "name": "stdout",
     "output_type": "stream",
     "text": [
      "Epoch 1/3\n",
      "562/562 [==============================] - 3s 5ms/step - loss: 1.2875 - accuracy: 0.4835 - val_loss: 1.0471 - val_accuracy: 0.5858\n",
      "Epoch 2/3\n",
      "562/562 [==============================] - 3s 5ms/step - loss: 1.0032 - accuracy: 0.5986 - val_loss: 0.9308 - val_accuracy: 0.6386\n",
      "Epoch 3/3\n",
      "562/562 [==============================] - 3s 5ms/step - loss: 0.9209 - accuracy: 0.6382 - val_loss: 0.8653 - val_accuracy: 0.6679\n"
     ]
    }
   ],
   "source": [
    "history_model_3=model_3.fit(train_char_dataset,steps_per_epoch=int(0.1*len(train_char_dataset)),epochs=3,validation_data=val_char_dataset,validation_steps=int(0.1*len(val_char_dataset)))"
   ]
  },
  {
   "cell_type": "code",
   "execution_count": 139,
   "metadata": {},
   "outputs": [
    {
     "name": "stdout",
     "output_type": "stream",
     "text": [
      "945/945 [==============================] - 1s 2ms/step\n"
     ]
    },
    {
     "data": {
      "text/plain": [
       "array([[0.09985829, 0.51783884, 0.13048032, 0.08996594, 0.16185658],\n",
       "       [0.19184962, 0.27257574, 0.05166551, 0.30038595, 0.18352324],\n",
       "       [0.16761799, 0.13661355, 0.31318912, 0.30134836, 0.08123095],\n",
       "       ...,\n",
       "       [0.00621477, 0.0250619 , 0.08999064, 0.01533204, 0.86340064],\n",
       "       [0.04537912, 0.10513162, 0.40445754, 0.07898357, 0.36604813],\n",
       "       [0.44547665, 0.4293028 , 0.04345805, 0.07274197, 0.00902055]],\n",
       "      dtype=float32)"
      ]
     },
     "execution_count": 139,
     "metadata": {},
     "output_type": "execute_result"
    }
   ],
   "source": [
    "# make prediction with character model\n",
    "model_3_pred_probs=model_3.predict(val_char_dataset)\n",
    "model_3_pred_probs"
   ]
  },
  {
   "cell_type": "code",
   "execution_count": 140,
   "metadata": {},
   "outputs": [
    {
     "data": {
      "text/plain": [
       "<tf.Tensor: shape=(30212,), dtype=int64, numpy=array([1, 3, 2, ..., 4, 2, 0])>"
      ]
     },
     "execution_count": 140,
     "metadata": {},
     "output_type": "execute_result"
    }
   ],
   "source": [
    "# convert pred_prob to classes\n",
    "model_3_preds=tf.argmax(model_3_pred_probs,axis=1)\n",
    "model_3_preds"
   ]
  },
  {
   "cell_type": "code",
   "execution_count": 141,
   "metadata": {},
   "outputs": [
    {
     "data": {
      "text/plain": [
       "{'accuracy': 78.64424731894611,\n",
       " 'precision': 0.783570123762238,\n",
       " 'recall': 0.7864424731894611,\n",
       " 'f1': 0.784340876241691}"
      ]
     },
     "execution_count": 141,
     "metadata": {},
     "output_type": "execute_result"
    }
   ],
   "source": [
    "# calculate results for model_3\n",
    "model_3_results=calculate_results(y_true=val_label_encoded,y_pred=model_1_preds)\n",
    "model_3_results"
   ]
  },
  {
   "cell_type": "markdown",
   "metadata": {},
   "source": [
    "# Model-4:Combining pretrained token embedding + character embeddings\n",
    "1. create a token level embedding model(similar `model1`)\n",
    "2. create character level model (`model_3` with some modifications)\n",
    "3. combine 1 & 2 with a concatenate\n",
    "4. Construct a model which takes takes token and character level sequence as input and produces sequence level probabilities as output.\n"
   ]
  },
  {
   "cell_type": "code",
   "execution_count": 144,
   "metadata": {},
   "outputs": [],
   "source": [
    "# 1.Setup token inputs/model\n",
    "token_input=layers.Input(shape=[],dtype=tf.string)\n",
    "token_embeddings=tf_hub_embedding_layer(token_input)\n",
    "token_output=layers.Dense(128,activation=\"relu\")(token_embeddings)\n",
    "token_model=tf.keras.Model(token_input,token_output)\n",
    "# 2. Setup char input/model\n",
    "char_input=layers.Input(shape=(1,),dtype=tf.string)\n",
    "char_vectors=char_vectorizer(char_input)\n",
    "char_embedding=char_embed(char_vectors)\n",
    "char_bi_lstm=layers.Bidirectional(layers.LSTM(24))(char_embedding)# from paper\n",
    "char_model=tf.keras.Model(char_input,char_bi_lstm)\n",
    "# 3. Concatenate token and char inputs(create hybrid token embeddings)\n",
    "token_char_conca=layers.Concatenate(name=\"token_char_hybrid\")([token_model.output,char_model.output])\n",
    "# 4. Create output layer - adding in Dropout ,discussed in section 4.2 of paper\n",
    "combined_dropout=layers.Dropout(0.5)(token_char_conca)\n",
    "combined_dense=layers.Dense(128,activation=\"relu\")(combined_dropout)\n",
    "final_dropout=layers.Dropout(0.5)(combined_dense)\n",
    "output_layer=layers.Dense(num_classes,activation=\"softmax\")(final_dropout)\n",
    "# 5.Construct model with char and token inputs\n",
    "model_4=tf.keras.Model(inputs=[token_model.input,char_model.input],\n",
    "                       outputs=output_layer,\n",
    "                       name=\"model_4_token_and_char_embeddings\")\n",
    "\n"
   ]
  },
  {
   "cell_type": "code",
   "execution_count": 145,
   "metadata": {},
   "outputs": [
    {
     "name": "stdout",
     "output_type": "stream",
     "text": [
      "Model: \"model_4_token_and_char_embeddings\"\n",
      "__________________________________________________________________________________________________\n",
      " Layer (type)                Output Shape                 Param #   Connected to                  \n",
      "==================================================================================================\n",
      " input_15 (InputLayer)       [(None, 1)]                  0         []                            \n",
      "                                                                                                  \n",
      " input_14 (InputLayer)       [(None,)]                    0         []                            \n",
      "                                                                                                  \n",
      " char_vectorizer (TextVecto  (None, 290)                  0         ['input_15[0][0]']            \n",
      " rization)                                                                                        \n",
      "                                                                                                  \n",
      " universal_model_encoder (K  (None, 512)                  2567978   ['input_14[0][0]']            \n",
      " erasLayer)                                               24                                      \n",
      "                                                                                                  \n",
      " char_embed (Embedding)      (None, 290, 25)              700       ['char_vectorizer[4][0]']     \n",
      "                                                                                                  \n",
      " dense_6 (Dense)             (None, 128)                  65664     ['universal_model_encoder[1][0\n",
      "                                                                    ]']                           \n",
      "                                                                                                  \n",
      " bidirectional (Bidirection  (None, 48)                   9600      ['char_embed[4][0]']          \n",
      " al)                                                                                              \n",
      "                                                                                                  \n",
      " token_char_hybrid (Concate  (None, 176)                  0         ['dense_6[0][0]',             \n",
      " nate)                                                               'bidirectional[0][0]']       \n",
      "                                                                                                  \n",
      " dropout (Dropout)           (None, 176)                  0         ['token_char_hybrid[0][0]']   \n",
      "                                                                                                  \n",
      " dense_7 (Dense)             (None, 128)                  22656     ['dropout[0][0]']             \n",
      "                                                                                                  \n",
      " dropout_1 (Dropout)         (None, 128)                  0         ['dense_7[0][0]']             \n",
      "                                                                                                  \n",
      " dense_8 (Dense)             (None, 5)                    645       ['dropout_1[0][0]']           \n",
      "                                                                                                  \n",
      "==================================================================================================\n",
      "Total params: 256897089 (979.98 MB)\n",
      "Trainable params: 99265 (387.75 KB)\n",
      "Non-trainable params: 256797824 (979.61 MB)\n",
      "__________________________________________________________________________________________________\n"
     ]
    }
   ],
   "source": [
    "# summary of model\n",
    "model_4.summary()"
   ]
  },
  {
   "cell_type": "code",
   "execution_count": 151,
   "metadata": {},
   "outputs": [],
   "source": [
    "model_4.compile(optimizer='adam', loss='categorical_crossentropy', metrics=['accuracy'])\n"
   ]
  },
  {
   "cell_type": "markdown",
   "metadata": {},
   "source": [
    "# Combine token and character data into tf.data.Dataset"
   ]
  },
  {
   "cell_type": "code",
   "execution_count": 152,
   "metadata": {},
   "outputs": [],
   "source": [
    "train_char_token_data=tf.data.Dataset.from_tensor_slices((train_sentence,train_chars))#make data\n",
    "train_char_token_label=tf.data.Dataset.from_tensor_slices(train_label_one_hot)#make label\n",
    "train_char_token_dataset=tf.data.Dataset.zip(train_char_token_data,train_char_token_label)\n",
    "# prefecth and batch\n",
    "train_char_token_dataset=train_char_token_dataset.batch(32).prefetch(tf.data.AUTOTUNE)"
   ]
  },
  {
   "cell_type": "code",
   "execution_count": 153,
   "metadata": {},
   "outputs": [],
   "source": [
    "test_char_token_data=tf.data.Dataset.from_tensor_slices((test_sentence,test_chars))#make data\n",
    "test_char_token_label=tf.data.Dataset.from_tensor_slices(test_label_one_hot)#make label\n",
    "test_char_token_dataset=tf.data.Dataset.zip(test_char_token_data,test_char_token_label)\n",
    "# prefecth and batch\n",
    "test_char_token_dataset=test_char_token_dataset.batch(32).prefetch(tf.data.AUTOTUNE)"
   ]
  },
  {
   "cell_type": "code",
   "execution_count": 154,
   "metadata": {},
   "outputs": [],
   "source": [
    "val_char_token_data=tf.data.Dataset.from_tensor_slices((val_sentence,valid_chars))#make data\n",
    "val_char_token_label=tf.data.Dataset.from_tensor_slices(val_label_one_hot)#make label\n",
    "val_char_token_dataset=tf.data.Dataset.zip(val_char_token_data,val_char_token_label)\n",
    "# prefecth and batch\n",
    "val_char_token_dataset=val_char_token_dataset.batch(32).prefetch(tf.data.AUTOTUNE)"
   ]
  },
  {
   "cell_type": "code",
   "execution_count": 156,
   "metadata": {},
   "outputs": [
    {
     "data": {
      "text/plain": [
       "(<_PrefetchDataset element_spec=(TensorSpec(shape=(None,), dtype=tf.string, name=None), TensorSpec(shape=(None, 5), dtype=tf.float64, name=None))>,\n",
       " <_PrefetchDataset element_spec=(TensorSpec(shape=(None,), dtype=tf.string, name=None), TensorSpec(shape=(None, 5), dtype=tf.float64, name=None))>)"
      ]
     },
     "execution_count": 156,
     "metadata": {},
     "output_type": "execute_result"
    }
   ],
   "source": [
    "# checking out our training data\n",
    "train_char_dataset,val_char_dataset"
   ]
  },
  {
   "cell_type": "code",
   "execution_count": 157,
   "metadata": {},
   "outputs": [
    {
     "name": "stdout",
     "output_type": "stream",
     "text": [
      "Epoch 1/3\n",
      "562/562 [==============================] - 35s 55ms/step - loss: 0.9787 - accuracy: 0.6082 - val_loss: 0.7786 - val_accuracy: 0.6998\n",
      "Epoch 2/3\n",
      "562/562 [==============================] - 29s 52ms/step - loss: 0.8024 - accuracy: 0.6953 - val_loss: 0.7162 - val_accuracy: 0.7217\n",
      "Epoch 3/3\n",
      "562/562 [==============================] - 29s 51ms/step - loss: 0.7728 - accuracy: 0.7022 - val_loss: 0.6991 - val_accuracy: 0.7320\n"
     ]
    }
   ],
   "source": [
    "# Fitting the model on token and chars\n",
    "history_model_4=model_4.fit(train_char_token_dataset,\n",
    "                            steps_per_epoch=int(0.1*len(train_char_token_dataset)),\n",
    "                            epochs=3,\n",
    "                            validation_data=val_char_token_dataset,\n",
    "                            validation_steps=int(0.1*len(val_char_token_dataset)))"
   ]
  },
  {
   "cell_type": "code",
   "execution_count": null,
   "metadata": {},
   "outputs": [
    {
     "name": "stdout",
     "output_type": "stream",
     "text": [
      "945/945 [==============================] - 10s 11ms/step - loss: 0.7031 - accuracy: 0.7317\n"
     ]
    },
    {
     "data": {
      "text/plain": [
       "[0.7031465768814087, 0.7316960096359253]"
      ]
     },
     "execution_count": 158,
     "metadata": {},
     "output_type": "execute_result"
    }
   ],
   "source": [
    "# evaluation \n",
    "model_4.evaluate(val_char_token_dataset)"
   ]
  },
  {
   "cell_type": "code",
   "execution_count": 159,
   "metadata": {},
   "outputs": [
    {
     "name": "stdout",
     "output_type": "stream",
     "text": [
      "945/945 [==============================] - 12s 11ms/step\n"
     ]
    },
    {
     "data": {
      "text/plain": [
       "array([[4.2065266e-01, 4.0569589e-01, 4.6365657e-03, 1.6071984e-01,\n",
       "        8.2950545e-03],\n",
       "       [3.5755911e-01, 4.6678671e-01, 1.9750118e-03, 1.7228042e-01,\n",
       "        1.3987757e-03],\n",
       "       [2.7144706e-01, 9.3972988e-02, 4.1702576e-02, 5.6603485e-01,\n",
       "        2.6842561e-02],\n",
       "       ...,\n",
       "       [3.9243419e-04, 5.8359597e-03, 5.8359545e-02, 1.7903387e-04,\n",
       "        9.3523300e-01],\n",
       "       [5.2012573e-03, 4.4131838e-02, 2.5643536e-01, 2.2958536e-03,\n",
       "        6.9193566e-01],\n",
       "       [3.3573315e-01, 3.1483731e-01, 2.6924795e-01, 3.9570812e-02,\n",
       "        4.0610801e-02]], dtype=float32)"
      ]
     },
     "execution_count": 159,
     "metadata": {},
     "output_type": "execute_result"
    }
   ],
   "source": [
    "model_4_pred_probs=model_4.predict(val_char_token_dataset)\n",
    "model_4_pred_probs"
   ]
  },
  {
   "cell_type": "code",
   "execution_count": 160,
   "metadata": {},
   "outputs": [],
   "source": [
    "# format pred_probs into pred labels\n",
    "model_4_preds=tf.argmax(model_4_pred_probs,axis=1)\n",
    "model_4_results=calculate_results(y_true=val_label_encoded,y_pred=model_4_preds)"
   ]
  },
  {
   "cell_type": "code",
   "execution_count": 161,
   "metadata": {},
   "outputs": [
    {
     "data": {
      "text/plain": [
       "{'accuracy': 73.16960148285449,\n",
       " 'precision': 0.7330313558040406,\n",
       " 'recall': 0.731696014828545,\n",
       " 'f1': 0.7290367210748512}"
      ]
     },
     "execution_count": 161,
     "metadata": {},
     "output_type": "execute_result"
    }
   ],
   "source": [
    "model_4_results"
   ]
  },
  {
   "cell_type": "markdown",
   "metadata": {},
   "source": [
    "# model_5: Transfer learning from with pretrained token embedding +character embedding + positional embedding\n"
   ]
  },
  {
   "cell_type": "code",
   "execution_count": 162,
   "metadata": {},
   "outputs": [
    {
     "data": {
      "text/html": [
       "<div>\n",
       "<style scoped>\n",
       "    .dataframe tbody tr th:only-of-type {\n",
       "        vertical-align: middle;\n",
       "    }\n",
       "\n",
       "    .dataframe tbody tr th {\n",
       "        vertical-align: top;\n",
       "    }\n",
       "\n",
       "    .dataframe thead th {\n",
       "        text-align: right;\n",
       "    }\n",
       "</style>\n",
       "<table border=\"1\" class=\"dataframe\">\n",
       "  <thead>\n",
       "    <tr style=\"text-align: right;\">\n",
       "      <th></th>\n",
       "      <th>target</th>\n",
       "      <th>text</th>\n",
       "      <th>line_number</th>\n",
       "      <th>total_lines</th>\n",
       "    </tr>\n",
       "  </thead>\n",
       "  <tbody>\n",
       "    <tr>\n",
       "      <th>0</th>\n",
       "      <td>OBJECTIVE</td>\n",
       "      <td>to investigate the efficacy of @ weeks of dail...</td>\n",
       "      <td>0</td>\n",
       "      <td>11</td>\n",
       "    </tr>\n",
       "    <tr>\n",
       "      <th>1</th>\n",
       "      <td>METHODS</td>\n",
       "      <td>a total of @ patients with primary knee oa wer...</td>\n",
       "      <td>1</td>\n",
       "      <td>11</td>\n",
       "    </tr>\n",
       "    <tr>\n",
       "      <th>2</th>\n",
       "      <td>METHODS</td>\n",
       "      <td>outcome measures included pain reduction and i...</td>\n",
       "      <td>2</td>\n",
       "      <td>11</td>\n",
       "    </tr>\n",
       "    <tr>\n",
       "      <th>3</th>\n",
       "      <td>METHODS</td>\n",
       "      <td>pain was assessed using the visual analog pain...</td>\n",
       "      <td>3</td>\n",
       "      <td>11</td>\n",
       "    </tr>\n",
       "    <tr>\n",
       "      <th>4</th>\n",
       "      <td>METHODS</td>\n",
       "      <td>secondary outcome measures included the wester...</td>\n",
       "      <td>4</td>\n",
       "      <td>11</td>\n",
       "    </tr>\n",
       "  </tbody>\n",
       "</table>\n",
       "</div>"
      ],
      "text/plain": [
       "      target                                               text  line_number  \\\n",
       "0  OBJECTIVE  to investigate the efficacy of @ weeks of dail...            0   \n",
       "1    METHODS  a total of @ patients with primary knee oa wer...            1   \n",
       "2    METHODS  outcome measures included pain reduction and i...            2   \n",
       "3    METHODS  pain was assessed using the visual analog pain...            3   \n",
       "4    METHODS  secondary outcome measures included the wester...            4   \n",
       "\n",
       "   total_lines  \n",
       "0           11  \n",
       "1           11  \n",
       "2           11  \n",
       "3           11  \n",
       "4           11  "
      ]
     },
     "execution_count": 162,
     "metadata": {},
     "output_type": "execute_result"
    }
   ],
   "source": [
    "train_df.head()"
   ]
  },
  {
   "cell_type": "markdown",
   "metadata": {},
   "source": [
    "# create positional embeddings"
   ]
  },
  {
   "cell_type": "code",
   "execution_count": 163,
   "metadata": {},
   "outputs": [
    {
     "data": {
      "text/plain": [
       "line_number\n",
       "0     15000\n",
       "1     15000\n",
       "2     15000\n",
       "3     15000\n",
       "4     14992\n",
       "5     14949\n",
       "6     14758\n",
       "7     14279\n",
       "8     13346\n",
       "9     11981\n",
       "10    10041\n",
       "11     7892\n",
       "12     5853\n",
       "13     4152\n",
       "14     2835\n",
       "15     1861\n",
       "16     1188\n",
       "17      751\n",
       "18      462\n",
       "19      286\n",
       "20      162\n",
       "21      101\n",
       "22       66\n",
       "23       33\n",
       "24       22\n",
       "25       14\n",
       "26        7\n",
       "27        4\n",
       "28        3\n",
       "29        1\n",
       "30        1\n",
       "Name: count, dtype: int64"
      ]
     },
     "execution_count": 163,
     "metadata": {},
     "output_type": "execute_result"
    }
   ],
   "source": [
    "# How different line numbers are there?\n",
    "train_df[\"line_number\"].value_counts()"
   ]
  },
  {
   "cell_type": "code",
   "execution_count": 165,
   "metadata": {},
   "outputs": [
    {
     "data": {
      "image/png": "[encoded data removed]",
      "text/plain": [
       "<Figure size 640x480 with 1 Axes>"
      ]
     },
     "metadata": {},
     "output_type": "display_data"
    }
   ],
   "source": [
    "# check distribution of 'line_number'\n",
    "train_df.line_number.plot.hist();"
   ]
  },
  {
   "cell_type": "code",
   "execution_count": 167,
   "metadata": {},
   "outputs": [
    {
     "data": {
      "text/plain": [
       "(<tf.Tensor: shape=(5, 15), dtype=float32, numpy=\n",
       " array([[1., 0., 0., 0., 0., 0., 0., 0., 0., 0., 0., 0., 0., 0., 0.],\n",
       "        [0., 1., 0., 0., 0., 0., 0., 0., 0., 0., 0., 0., 0., 0., 0.],\n",
       "        [0., 0., 1., 0., 0., 0., 0., 0., 0., 0., 0., 0., 0., 0., 0.],\n",
       "        [0., 0., 0., 1., 0., 0., 0., 0., 0., 0., 0., 0., 0., 0., 0.],\n",
       "        [0., 0., 0., 0., 1., 0., 0., 0., 0., 0., 0., 0., 0., 0., 0.]],\n",
       "       dtype=float32)>,\n",
       " TensorShape([180040, 15]))"
      ]
     },
     "execution_count": 167,
     "metadata": {},
     "output_type": "execute_result"
    }
   ],
   "source": [
    "# use tensorflow to create one-hot-encode\n",
    "train_line_number_one_hot=tf.one_hot(train_df[\"line_number\"].to_numpy(),depth=15)\n",
    "test_line_number_one_hot=tf.one_hot(test_df[\"line_number\"].to_numpy(),depth=15)\n",
    "\n",
    "val_line_number_one_hot=tf.one_hot(val_df[\"line_number\"].to_numpy(),depth=15)\n",
    "\n",
    "train_line_number_one_hot[:5],train_line_number_one_hot.shape"
   ]
  },
  {
   "cell_type": "markdown",
   "metadata": {},
   "source": [
    "**Now we have encoded our line number let's do the same for our total lines feature..**"
   ]
  },
  {
   "cell_type": "code",
   "execution_count": 168,
   "metadata": {},
   "outputs": [
    {
     "data": {
      "text/plain": [
       "total_lines\n",
       "11    24468\n",
       "10    23639\n",
       "12    22113\n",
       "9     19400\n",
       "13    18438\n",
       "14    14610\n",
       "8     12285\n",
       "15    10768\n",
       "7      7464\n",
       "16     7429\n",
       "17     5202\n",
       "6      3353\n",
       "18     3344\n",
       "19     2480\n",
       "20     1281\n",
       "5      1146\n",
       "21      770\n",
       "22      759\n",
       "23      264\n",
       "4       215\n",
       "24      200\n",
       "25      182\n",
       "26       81\n",
       "28       58\n",
       "3        32\n",
       "30       31\n",
       "27       28\n",
       "Name: count, dtype: int64"
      ]
     },
     "execution_count": 168,
     "metadata": {},
     "output_type": "execute_result"
    }
   ],
   "source": [
    "# how many different numbers of lines are there?\n",
    "train_df[\"total_lines\"].value_counts()"
   ]
  },
  {
   "cell_type": "code",
   "execution_count": 169,
   "metadata": {},
   "outputs": [
    {
     "data": {
      "text/plain": [
       "<Axes: ylabel='Frequency'>"
      ]
     },
     "execution_count": 169,
     "metadata": {},
     "output_type": "execute_result"
    },
    {
     "data": {
      "image/png": "[encoded data removed]",
      "text/plain": [
       "<Figure size 640x480 with 1 Axes>"
      ]
     },
     "metadata": {},
     "output_type": "display_data"
    }
   ],
   "source": [
    "train_df.total_lines.plot.hist()"
   ]
  },
  {
   "cell_type": "code",
   "execution_count": 170,
   "metadata": {},
   "outputs": [
    {
     "data": {
      "text/plain": [
       "18.0"
      ]
     },
     "execution_count": 170,
     "metadata": {},
     "output_type": "execute_result"
    }
   ],
   "source": [
    "np.percentile(train_df.total_lines,95)"
   ]
  },
  {
   "cell_type": "code",
   "execution_count": 172,
   "metadata": {},
   "outputs": [
    {
     "data": {
      "text/plain": [
       "(TensorShape([180040, 20]),\n",
       " <tf.Tensor: shape=(10, 20), dtype=float32, numpy=\n",
       " array([[0., 0., 0., 0., 0., 0., 0., 0., 0., 0., 0., 1., 0., 0., 0., 0.,\n",
       "         0., 0., 0., 0.],\n",
       "        [0., 0., 0., 0., 0., 0., 0., 0., 0., 0., 0., 1., 0., 0., 0., 0.,\n",
       "         0., 0., 0., 0.],\n",
       "        [0., 0., 0., 0., 0., 0., 0., 0., 0., 0., 0., 1., 0., 0., 0., 0.,\n",
       "         0., 0., 0., 0.],\n",
       "        [0., 0., 0., 0., 0., 0., 0., 0., 0., 0., 0., 1., 0., 0., 0., 0.,\n",
       "         0., 0., 0., 0.],\n",
       "        [0., 0., 0., 0., 0., 0., 0., 0., 0., 0., 0., 1., 0., 0., 0., 0.,\n",
       "         0., 0., 0., 0.],\n",
       "        [0., 0., 0., 0., 0., 0., 0., 0., 0., 0., 0., 1., 0., 0., 0., 0.,\n",
       "         0., 0., 0., 0.],\n",
       "        [0., 0., 0., 0., 0., 0., 0., 0., 0., 0., 0., 1., 0., 0., 0., 0.,\n",
       "         0., 0., 0., 0.],\n",
       "        [0., 0., 0., 0., 0., 0., 0., 0., 0., 0., 0., 1., 0., 0., 0., 0.,\n",
       "         0., 0., 0., 0.],\n",
       "        [0., 0., 0., 0., 0., 0., 0., 0., 0., 0., 0., 1., 0., 0., 0., 0.,\n",
       "         0., 0., 0., 0.],\n",
       "        [0., 0., 0., 0., 0., 0., 0., 0., 0., 0., 0., 1., 0., 0., 0., 0.,\n",
       "         0., 0., 0., 0.]], dtype=float32)>)"
      ]
     },
     "execution_count": 172,
     "metadata": {},
     "output_type": "execute_result"
    }
   ],
   "source": [
    "# use tf to one-hot-encode the total_lines feature\n",
    "train_total_lines_one_hot=tf.one_hot(train_df[\"total_lines\"],depth=20)\n",
    "test_total_lines_one_hot=tf.one_hot(test_df[\"total_lines\"],depth=20)\n",
    "val_total_lines_one_hot=tf.one_hot(val_df[\"total_lines\"],depth=20)\n",
    "\n",
    "train_total_lines_one_hot.shape,train_total_lines_one_hot[:10]"
   ]
  },
  {
   "cell_type": "markdown",
   "metadata": {},
   "source": [
    "# Building a tribrid embedding model\n",
    "1. Create a token-level-model\n",
    "2. Create a character-level model\n",
    "3. Create a model for the \"line_number\" feature\n",
    "4. Create model for \"total_line\" feature\n",
    "5. Combine the outputs of 1 & 2 using tf.keras.layers.concatenate\n",
    "6. Combine the outputs of 3,4,5 using tf.keras.layers.concatenate\n",
    "7. Create the output layer to accept the tribed embedding an output level probability\n",
    "8. Combine the inputs of 1,2,3,4 and outputs of into a tf.keras.Model"
   ]
  },
  {
   "cell_type": "code",
   "execution_count": 173,
   "metadata": {},
   "outputs": [],
   "source": [
    "# Token model\n",
    "token_input=layers.Input(shape=[],dtype=tf.string,name=\"Token_input\")\n",
    "token_embeddings=tf_hub_embedding_layer(token_input)\n",
    "token_output=layers.Dense(128,activation=\"relu\")(token_embeddings)\n",
    "token_model=tf.keras.Model(inputs=token_input,outputs=token_output)\n",
    "\n",
    "# Char inputs\n",
    "char_inputs=layers.Input(shape=(1,),dtype=tf.string,name=\"char_input\")\n",
    "char_vector=char_vectorizer(char_inputs)\n",
    "char_embedding=char_embed(char_vector)\n",
    "char_bi_lstm=layers.Bidirectional(layers.LSTM(24))(char_embedding)\n",
    "char_model=tf.keras.Model(inputs=char_inputs,outputs=char_bi_lstm)\n",
    "\n",
    "# Line number model\n",
    "line_number_input=layers.Input(shape=(15,),dtype=tf.float32,name=\"line_number_input\")\n",
    "x=layers.Dense(32,activation=\"relu\")(line_number_input)\n",
    "line_number_model=tf.keras.Model(inputs=line_number_input,outputs=x)\n",
    "\n",
    "# Total line model\n",
    "total_lines_inputs=layers.Input(shape=(20,),dtype=tf.float32,name=\"total_lines_inputs\")\n",
    "y=layers.Dense(32,activation=\"relu\")(total_lines_inputs)\n",
    "total_line_model=tf.keras.Model(total_lines_inputs,y)\n",
    "\n",
    "# combine token & char\n",
    "combined_embeddings=layers.Concatenate(name=\"char_token_hybrid_embeddings\")([token_model.output,char_model.output])\n",
    "\n",
    "z=layers.Dense(256,activation=\"relu\")(combined_embeddings)\n",
    "z=layers.Dropout(0.5)(z)\n",
    "\n",
    "# combine positional embedding with combined char and token embeding\n",
    "tribrid_embeddings=layers.Concatenate(name=\"char_token_positional_embeddings\")([line_number_model.output,total_line_model.output,combined_embeddings])\n",
    "\n",
    "# output layer\n",
    "output_layer=layers.Dense(5,activation=\"softmax\",name=\"output_layer\")(tribrid_embeddings)\n",
    "model_5=tf.keras.Model(inputs=[line_number_model.input,total_line_model.input,token_model.input,char_model.input],\n",
    "                       outputs=output_layer)"
   ]
  },
  {
   "cell_type": "code",
   "execution_count": 174,
   "metadata": {},
   "outputs": [
    {
     "name": "stdout",
     "output_type": "stream",
     "text": [
      "Model: \"model_8\"\n",
      "__________________________________________________________________________________________________\n",
      " Layer (type)                Output Shape                 Param #   Connected to                  \n",
      "==================================================================================================\n",
      " char_input (InputLayer)     [(None, 1)]                  0         []                            \n",
      "                                                                                                  \n",
      " Token_input (InputLayer)    [(None,)]                    0         []                            \n",
      "                                                                                                  \n",
      " char_vectorizer (TextVecto  (None, 290)                  0         ['char_input[0][0]']          \n",
      " rization)                                                                                        \n",
      "                                                                                                  \n",
      " universal_model_encoder (K  (None, 512)                  2567978   ['Token_input[0][0]']         \n",
      " erasLayer)                                               24                                      \n",
      "                                                                                                  \n",
      " char_embed (Embedding)      (None, 290, 25)              700       ['char_vectorizer[5][0]']     \n",
      "                                                                                                  \n",
      " line_number_input (InputLa  [(None, 15)]                 0         []                            \n",
      " yer)                                                                                             \n",
      "                                                                                                  \n",
      " total_lines_inputs (InputL  [(None, 20)]                 0         []                            \n",
      " ayer)                                                                                            \n",
      "                                                                                                  \n",
      " dense_9 (Dense)             (None, 128)                  65664     ['universal_model_encoder[2][0\n",
      "                                                                    ]']                           \n",
      "                                                                                                  \n",
      " bidirectional_1 (Bidirecti  (None, 48)                   9600      ['char_embed[5][0]']          \n",
      " onal)                                                                                            \n",
      "                                                                                                  \n",
      " dense_10 (Dense)            (None, 32)                   512       ['line_number_input[0][0]']   \n",
      "                                                                                                  \n",
      " dense_11 (Dense)            (None, 32)                   672       ['total_lines_inputs[0][0]']  \n",
      "                                                                                                  \n",
      " char_token_hybrid_embeddin  (None, 176)                  0         ['dense_9[0][0]',             \n",
      " gs (Concatenate)                                                    'bidirectional_1[0][0]']     \n",
      "                                                                                                  \n",
      " char_token_positional_embe  (None, 240)                  0         ['dense_10[0][0]',            \n",
      " ddings (Concatenate)                                                'dense_11[0][0]',            \n",
      "                                                                     'char_token_hybrid_embeddings\n",
      "                                                                    [0][0]']                      \n",
      "                                                                                                  \n",
      " output_layer (Dense)        (None, 5)                    1205      ['char_token_positional_embedd\n",
      "                                                                    ings[0][0]']                  \n",
      "                                                                                                  \n",
      "==================================================================================================\n",
      "Total params: 256876177 (979.90 MB)\n",
      "Trainable params: 78353 (306.07 KB)\n",
      "Non-trainable params: 256797824 (979.61 MB)\n",
      "__________________________________________________________________________________________________\n"
     ]
    }
   ],
   "source": [
    "model_5.summary()"
   ]
  },
  {
   "cell_type": "code",
   "execution_count": 175,
   "metadata": {},
   "outputs": [
    {
     "name": "stdout",
     "output_type": "stream",
     "text": [
      "You must install pydot (`pip install pydot`) and install graphviz (see instructions at https://graphviz.gitlab.io/download/) for plot_model to work.\n"
     ]
    }
   ],
   "source": [
    "plot_model(model_5)"
   ]
  },
  {
   "cell_type": "markdown",
   "metadata": {},
   "source": [
    "*See label smoothing*"
   ]
  },
  {
   "cell_type": "code",
   "execution_count": 210,
   "metadata": {},
   "outputs": [],
   "source": [
    "# compile model\n",
    "model_5.compile(loss=tf.keras.losses.CategoricalCrossentropy(label_smoothing=0.2),#helps to prevent overfitting\n",
    "                optimizer=\"adam\",metrics=[\"accuracy\"])#run_eagerly=True)\n",
    "\n"
   ]
  },
  {
   "cell_type": "markdown",
   "metadata": {},
   "source": [
    "# Create tribid embedding dataset using tf.data"
   ]
  },
  {
   "cell_type": "code",
   "execution_count": 211,
   "metadata": {},
   "outputs": [],
   "source": [
    "# create training and valid dataset with all 4 inputs\n",
    "train_char_token_pos_data=tf.data.Dataset.from_tensor_slices((train_line_number_one_hot,\n",
    "                                                              train_total_lines_one_hot,\n",
    "                                                              train_sentence,\n",
    "                                                              train_chars))\n",
    "train_char_token_pos_label=tf.data.Dataset.from_tensor_slices(train_label_one_hot)\n",
    "train_char_token_pos_dataset=tf.data.Dataset.zip((train_char_token_pos_data,train_char_token_pos_label))\n",
    "train_char_token_pos_dataset=train_char_token_pos_dataset.batch(32).prefetch(tf.data.AUTOTUNE)"
   ]
  },
  {
   "cell_type": "code",
   "execution_count": 212,
   "metadata": {},
   "outputs": [],
   "source": [
    "val_char_token_pos_data=tf.data.Dataset.from_tensor_slices((val_line_number_one_hot,\n",
    "                                                              val_total_lines_one_hot,\n",
    "                                                              val_sentence,\n",
    "                                                              valid_chars))\n",
    "val_char_token_pos_label=tf.data.Dataset.from_tensor_slices(val_label_one_hot)\n",
    "val_char_token_pos_dataset=tf.data.Dataset.zip((val_char_token_pos_data,val_char_token_pos_label))\n",
    "val_char_token_pos_dataset=val_char_token_pos_dataset.batch(32).prefetch(tf.data.AUTOTUNE)\n"
   ]
  },
  {
   "cell_type": "code",
   "execution_count": 213,
   "metadata": {},
   "outputs": [],
   "source": [
    "test_char_token_pos_data=tf.data.Dataset.from_tensor_slices((test_line_number_one_hot,\n",
    "                                                              test_total_lines_one_hot,\n",
    "                                                              test_sentence,\n",
    "                                                              test_chars))\n",
    "test_char_token_pos_label=tf.data.Dataset.from_tensor_slices(test_label_one_hot)\n",
    "test_char_token_pos_dataset=tf.data.Dataset.zip((test_char_token_pos_data,test_char_token_pos_label))\n",
    "test_char_token_pos_dataset=test_char_token_pos_dataset.batch(32).prefetch(tf.data.AUTOTUNE)"
   ]
  },
  {
   "cell_type": "code",
   "execution_count": 214,
   "metadata": {},
   "outputs": [
    {
     "data": {
      "text/plain": [
       "(<_PrefetchDataset element_spec=((TensorSpec(shape=(None,), dtype=tf.string, name=None), TensorSpec(shape=(None,), dtype=tf.string, name=None)), TensorSpec(shape=(None, 5), dtype=tf.float64, name=None))>,\n",
       " <_TensorSliceDataset element_spec=(TensorSpec(shape=(), dtype=tf.string, name=None), TensorSpec(shape=(), dtype=tf.string, name=None))>)"
      ]
     },
     "execution_count": 214,
     "metadata": {},
     "output_type": "execute_result"
    }
   ],
   "source": [
    "train_char_token_dataset,val_char_token_data"
   ]
  },
  {
   "cell_type": "code",
   "execution_count": 215,
   "metadata": {},
   "outputs": [
    {
     "name": "stdout",
     "output_type": "stream",
     "text": [
      "Epoch 1/3\n",
      "562/562 [==============================] - 35s 54ms/step - loss: 1.0719 - accuracy: 0.7472 - val_loss: 0.9861 - val_accuracy: 0.7999\n",
      "Epoch 2/3\n",
      "562/562 [==============================] - 29s 51ms/step - loss: 0.9686 - accuracy: 0.8138 - val_loss: 0.9584 - val_accuracy: 0.8251\n",
      "Epoch 3/3\n",
      "562/562 [==============================] - 29s 51ms/step - loss: 0.9538 - accuracy: 0.8220 - val_loss: 0.9499 - val_accuracy: 0.8258\n"
     ]
    }
   ],
   "source": [
    "history_model_5=model_5.fit(train_char_token_pos_dataset,\n",
    "                            steps_per_epoch=int(0.1*len(train_char_token_pos_dataset)),\n",
    "                            epochs=3,\n",
    "                            validation_data=val_char_token_pos_dataset,\n",
    "                            validation_steps=int(0.1*len(val_char_token_pos_dataset)))"
   ]
  },
  {
   "cell_type": "code",
   "execution_count": 217,
   "metadata": {},
   "outputs": [
    {
     "name": "stdout",
     "output_type": "stream",
     "text": [
      "945/945 [==============================] - 12s 11ms/step\n"
     ]
    }
   ],
   "source": [
    "model_5_pred_probs=model_5.predict(val_char_token_pos_dataset)"
   ]
  },
  {
   "cell_type": "code",
   "execution_count": 218,
   "metadata": {},
   "outputs": [],
   "source": [
    "model_5_preds=tf.argmax(model_5_pred_probs,axis=1)\n"
   ]
  },
  {
   "cell_type": "code",
   "execution_count": 220,
   "metadata": {},
   "outputs": [
    {
     "data": {
      "text/plain": [
       "array([0, 0, 3, ..., 4, 1, 1])"
      ]
     },
     "execution_count": 220,
     "metadata": {},
     "output_type": "execute_result"
    }
   ],
   "source": [
    "val_label_encoded"
   ]
  },
  {
   "cell_type": "code",
   "execution_count": 222,
   "metadata": {},
   "outputs": [
    {
     "data": {
      "text/plain": [
       "{'accuracy': 82.58969945716935,\n",
       " 'precision': 0.8242112930705289,\n",
       " 'recall': 0.8258969945716934,\n",
       " 'f1': 0.8248535267689584}"
      ]
     },
     "execution_count": 222,
     "metadata": {},
     "output_type": "execute_result"
    }
   ],
   "source": [
    "# calculate result\n",
    "model_5_result=calculate_results(y_true=val_label_encoded,y_pred=model_5_preds)\n",
    "model_5_result"
   ]
  },
  {
   "cell_type": "code",
   "execution_count": 223,
   "metadata": {},
   "outputs": [
    {
     "data": {
      "text/plain": [
       "{'accuracy': 73.16960148285449,\n",
       " 'precision': 0.7330313558040406,\n",
       " 'recall': 0.731696014828545,\n",
       " 'f1': 0.7290367210748512}"
      ]
     },
     "execution_count": 223,
     "metadata": {},
     "output_type": "execute_result"
    }
   ],
   "source": [
    "model_4_results"
   ]
  },
  {
   "cell_type": "code",
   "execution_count": 224,
   "metadata": {},
   "outputs": [
    {
     "data": {
      "text/html": [
       "<div>\n",
       "<style scoped>\n",
       "    .dataframe tbody tr th:only-of-type {\n",
       "        vertical-align: middle;\n",
       "    }\n",
       "\n",
       "    .dataframe tbody tr th {\n",
       "        vertical-align: top;\n",
       "    }\n",
       "\n",
       "    .dataframe thead th {\n",
       "        text-align: right;\n",
       "    }\n",
       "</style>\n",
       "<table border=\"1\" class=\"dataframe\">\n",
       "  <thead>\n",
       "    <tr style=\"text-align: right;\">\n",
       "      <th></th>\n",
       "      <th>accuracy</th>\n",
       "      <th>precision</th>\n",
       "      <th>recall</th>\n",
       "      <th>f1</th>\n",
       "    </tr>\n",
       "  </thead>\n",
       "  <tbody>\n",
       "    <tr>\n",
       "      <th>model_0</th>\n",
       "      <td>72.183238</td>\n",
       "      <td>0.718647</td>\n",
       "      <td>0.721832</td>\n",
       "      <td>0.698925</td>\n",
       "    </tr>\n",
       "    <tr>\n",
       "      <th>model_1</th>\n",
       "      <td>78.644247</td>\n",
       "      <td>0.783570</td>\n",
       "      <td>0.786442</td>\n",
       "      <td>0.784341</td>\n",
       "    </tr>\n",
       "    <tr>\n",
       "      <th>model_2</th>\n",
       "      <td>71.256454</td>\n",
       "      <td>0.713276</td>\n",
       "      <td>0.712565</td>\n",
       "      <td>0.709709</td>\n",
       "    </tr>\n",
       "    <tr>\n",
       "      <th>model_3</th>\n",
       "      <td>78.644247</td>\n",
       "      <td>0.783570</td>\n",
       "      <td>0.786442</td>\n",
       "      <td>0.784341</td>\n",
       "    </tr>\n",
       "    <tr>\n",
       "      <th>model_4</th>\n",
       "      <td>73.169601</td>\n",
       "      <td>0.733031</td>\n",
       "      <td>0.731696</td>\n",
       "      <td>0.729037</td>\n",
       "    </tr>\n",
       "    <tr>\n",
       "      <th>model_5</th>\n",
       "      <td>82.589699</td>\n",
       "      <td>0.824211</td>\n",
       "      <td>0.825897</td>\n",
       "      <td>0.824854</td>\n",
       "    </tr>\n",
       "  </tbody>\n",
       "</table>\n",
       "</div>"
      ],
      "text/plain": [
       "          accuracy  precision    recall        f1\n",
       "model_0  72.183238   0.718647  0.721832  0.698925\n",
       "model_1  78.644247   0.783570  0.786442  0.784341\n",
       "model_2  71.256454   0.713276  0.712565  0.709709\n",
       "model_3  78.644247   0.783570  0.786442  0.784341\n",
       "model_4  73.169601   0.733031  0.731696  0.729037\n",
       "model_5  82.589699   0.824211  0.825897  0.824854"
      ]
     },
     "execution_count": 224,
     "metadata": {},
     "output_type": "execute_result"
    }
   ],
   "source": [
    "all_model_results=pd.DataFrame({\n",
    "    \"model_0\":baseline_result,\n",
    "    \"model_1\":model_1_result,\n",
    "    \"model_2\":model_2_result,\n",
    "    \"model_3\":model_3_results,\n",
    "    \"model_4\":model_4_results,\n",
    "    \"model_5\":model_5_result\n",
    "    })\n",
    "all_model_results=all_model_results.transpose()\n",
    "all_model_results"
   ]
  },
  {
   "cell_type": "code",
   "execution_count": 225,
   "metadata": {},
   "outputs": [],
   "source": [
    "# reduce accuracy to same scale\n",
    "all_model_results[\"accuracy\"]=all_model_results[\"accuracy\"]/100"
   ]
  },
  {
   "cell_type": "code",
   "execution_count": 226,
   "metadata": {},
   "outputs": [
    {
     "data": {
      "image/png": "[encoded data removed]",
      "text/plain": [
       "<Figure size 1000x700 with 1 Axes>"
      ]
     },
     "metadata": {},
     "output_type": "display_data"
    }
   ],
   "source": [
    "# plot and compare all model results\n",
    "all_model_results.plot(kind=\"bar\",figsize=(10,7)).legend(bbox_to_anchor=(1.0,1.0));"
   ]
  },
  {
   "cell_type": "code",
   "execution_count": 227,
   "metadata": {},
   "outputs": [
    {
     "data": {
      "image/png": "[encoded data removed]",
      "text/plain": [
       "<Figure size 1000x700 with 1 Axes>"
      ]
     },
     "metadata": {},
     "output_type": "display_data"
    }
   ],
   "source": [
    "# compare model result by f1-score\n",
    "all_model_results.sort_values(\"f1\",ascending=True)[\"f1\"].plot(kind=\"bar\",figsize=(10,7));"
   ]
  },
  {
   "cell_type": "code",
   "execution_count": 228,
   "metadata": {},
   "outputs": [
    {
     "name": "stdout",
     "output_type": "stream",
     "text": [
      "ERROR:tensorflow:==================================\n",
      "Object was never used (type <class 'tensorflow.python.ops.tensor_array_ops.TensorArray'>):\n",
      "<tensorflow.python.ops.tensor_array_ops.TensorArray object at 0x31c390a50>\n",
      "If you want to mark it as used call its \"mark_used()\" method.\n",
      "It was originally created here:\n",
      "  File \"/Library/Frameworks/Python.framework/Versions/3.11/lib/python3.11/site-packages/keras/src/backend.py\", line 5116, in <genexpr>\n",
      "    output_ta_t = tuple(  File \"/Library/Frameworks/Python.framework/Versions/3.11/lib/python3.11/site-packages/tensorflow/python/util/tf_should_use.py\", line 288, in wrapped\n",
      "    return _add_should_use_warning(fn(*args, **kwargs),\n",
      "==================================\n"
     ]
    },
    {
     "name": "stderr",
     "output_type": "stream",
     "text": [
      "ERROR:tensorflow:==================================\n",
      "Object was never used (type <class 'tensorflow.python.ops.tensor_array_ops.TensorArray'>):\n",
      "<tensorflow.python.ops.tensor_array_ops.TensorArray object at 0x31c390a50>\n",
      "If you want to mark it as used call its \"mark_used()\" method.\n",
      "It was originally created here:\n",
      "  File \"/Library/Frameworks/Python.framework/Versions/3.11/lib/python3.11/site-packages/keras/src/backend.py\", line 5116, in <genexpr>\n",
      "    output_ta_t = tuple(  File \"/Library/Frameworks/Python.framework/Versions/3.11/lib/python3.11/site-packages/tensorflow/python/util/tf_should_use.py\", line 288, in wrapped\n",
      "    return _add_should_use_warning(fn(*args, **kwargs),\n",
      "==================================\n"
     ]
    },
    {
     "name": "stdout",
     "output_type": "stream",
     "text": [
      "INFO:tensorflow:Assets written to: skimlit_tribrid_model/assets\n"
     ]
    },
    {
     "name": "stderr",
     "output_type": "stream",
     "text": [
      "INFO:tensorflow:Assets written to: skimlit_tribrid_model/assets\n"
     ]
    }
   ],
   "source": [
    "# save and load model\n",
    "model_5.save(\"skimlit_tribrid_model\")"
   ]
  },
  {
   "cell_type": "code",
   "execution_count": null,
   "metadata": {},
   "outputs": [],
   "source": [
    "# how to load model \n",
    "# loaded_model=tf.keras.models.load_model(\"skimlit_tribrid_model\")"
   ]
  }
 ],
 "metadata": {
  "kernelspec": {
   "display_name": "Python 3",
   "language": "python",
   "name": "python3"
  },
  "language_info": {
   "codemirror_mode": {
    "name": "ipython",
    "version": 3
   },
   "file_extension": ".py",
   "mimetype": "text/x-python",
   "name": "python",
   "nbconvert_exporter": "python",
   "pygments_lexer": "ipython3",
   "version": "3.11.1"
  }
 },
 "nbformat": 4,
 "nbformat_minor": 2
}
